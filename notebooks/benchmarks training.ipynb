{
  "nbformat": 4,
  "nbformat_minor": 0,
  "metadata": {
    "colab": {
      "name": "Benchmarks_NN_training.ipynb",
      "version": "0.3.2",
      "provenance": [],
      "collapsed_sections": []
    },
    "language_info": {
      "codemirror_mode": {
        "name": "ipython",
        "version": 3
      },
      "file_extension": ".py",
      "mimetype": "text/x-python",
      "name": "python",
      "nbconvert_exporter": "python",
      "pygments_lexer": "ipython3",
      "version": "3.7.3"
    },
    "kernelspec": {
      "name": "python3",
      "display_name": "Python 3"
    },
    "accelerator": "GPU"
  },
  "cells": [
    {
      "cell_type": "code",
      "metadata": {
        "id": "UAqL75a9ZMie",
        "colab_type": "code",
        "colab": {
          "base_uri": "https://localhost:8080/",
          "height": 102
        },
        "outputId": "4188c59c-661a-4689-b849-f48246f12547"
      },
      "source": [
        "!git clone https://github.com/Zymrael/torchSODE.git"
      ],
      "execution_count": 1,
      "outputs": [
        {
          "output_type": "stream",
          "text": [
            "Cloning into 'torchSODE'...\n",
            "remote: Enumerating objects: 678, done.\u001b[K\n",
            "remote: Total 678 (delta 0), reused 0 (delta 0), pack-reused 678\u001b[K\n",
            "Receiving objects: 100% (678/678), 1.01 MiB | 2.25 MiB/s, done.\n",
            "Resolving deltas: 100% (442/442), done.\n"
          ],
          "name": "stdout"
        }
      ]
    },
    {
      "cell_type": "code",
      "metadata": {
        "id": "IDKMk0cTYv2Z",
        "colab_type": "code",
        "colab": {
          "base_uri": "https://localhost:8080/",
          "height": 768
        },
        "outputId": "8b806be2-2311-4594-ffd5-32dd0e9a29d7"
      },
      "source": [
        "!cd ./torchSODE/src/ && python3 setup.py install"
      ],
      "execution_count": 2,
      "outputs": [
        {
          "output_type": "stream",
          "text": [
            "running install\n",
            "running bdist_egg\n",
            "running egg_info\n",
            "creating torchSODE.egg-info\n",
            "writing torchSODE.egg-info/PKG-INFO\n",
            "writing dependency_links to torchSODE.egg-info/dependency_links.txt\n",
            "writing top-level names to torchSODE.egg-info/top_level.txt\n",
            "writing manifest file 'torchSODE.egg-info/SOURCES.txt'\n",
            "writing manifest file 'torchSODE.egg-info/SOURCES.txt'\n",
            "installing library code to build/bdist.linux-x86_64/egg\n",
            "running install_lib\n",
            "running build_ext\n",
            "building 'torchSODE' extension\n",
            "creating build\n",
            "creating build/temp.linux-x86_64-3.6\n",
            "x86_64-linux-gnu-gcc -pthread -DNDEBUG -g -fwrapv -O2 -Wall -g -fstack-protector-strong -Wformat -Werror=format-security -Wdate-time -D_FORTIFY_SOURCE=2 -fPIC -I/usr/local/lib/python3.6/dist-packages/torch/include -I/usr/local/lib/python3.6/dist-packages/torch/include/torch/csrc/api/include -I/usr/local/lib/python3.6/dist-packages/torch/include/TH -I/usr/local/lib/python3.6/dist-packages/torch/include/THC -I/usr/local/cuda/include -I/usr/include/python3.6m -c solver_interface.cpp -o build/temp.linux-x86_64-3.6/solver_interface.o -DTORCH_API_INCLUDE_EXTENSION_H -DTORCH_EXTENSION_NAME=torchSODE -D_GLIBCXX_USE_CXX11_ABI=0 -std=c++11\n",
            "/usr/local/cuda/bin/nvcc -I/usr/local/lib/python3.6/dist-packages/torch/include -I/usr/local/lib/python3.6/dist-packages/torch/include/torch/csrc/api/include -I/usr/local/lib/python3.6/dist-packages/torch/include/TH -I/usr/local/lib/python3.6/dist-packages/torch/include/THC -I/usr/local/cuda/include -I/usr/include/python3.6m -c solver.cu -o build/temp.linux-x86_64-3.6/solver.o -D__CUDA_NO_HALF_OPERATORS__ -D__CUDA_NO_HALF_CONVERSIONS__ -D__CUDA_NO_HALF2_OPERATORS__ --compiler-options '-fPIC' -DTORCH_API_INCLUDE_EXTENSION_H -DTORCH_EXTENSION_NAME=torchSODE -D_GLIBCXX_USE_CXX11_ABI=0 -std=c++11\n",
            "creating build/lib.linux-x86_64-3.6\n",
            "x86_64-linux-gnu-g++ -pthread -shared -Wl,-O1 -Wl,-Bsymbolic-functions -Wl,-Bsymbolic-functions -Wl,-z,relro -Wl,-Bsymbolic-functions -Wl,-z,relro -g -fstack-protector-strong -Wformat -Werror=format-security -Wdate-time -D_FORTIFY_SOURCE=2 build/temp.linux-x86_64-3.6/solver_interface.o build/temp.linux-x86_64-3.6/solver.o -L/usr/local/cuda/lib64 -lcudart -o build/lib.linux-x86_64-3.6/torchSODE.cpython-36m-x86_64-linux-gnu.so\n",
            "creating build/bdist.linux-x86_64\n",
            "creating build/bdist.linux-x86_64/egg\n",
            "copying build/lib.linux-x86_64-3.6/torchSODE.cpython-36m-x86_64-linux-gnu.so -> build/bdist.linux-x86_64/egg\n",
            "creating stub loader for torchSODE.cpython-36m-x86_64-linux-gnu.so\n",
            "byte-compiling build/bdist.linux-x86_64/egg/torchSODE.py to torchSODE.cpython-36.pyc\n",
            "creating build/bdist.linux-x86_64/egg/EGG-INFO\n",
            "copying torchSODE.egg-info/PKG-INFO -> build/bdist.linux-x86_64/egg/EGG-INFO\n",
            "copying torchSODE.egg-info/SOURCES.txt -> build/bdist.linux-x86_64/egg/EGG-INFO\n",
            "copying torchSODE.egg-info/dependency_links.txt -> build/bdist.linux-x86_64/egg/EGG-INFO\n",
            "copying torchSODE.egg-info/top_level.txt -> build/bdist.linux-x86_64/egg/EGG-INFO\n",
            "writing build/bdist.linux-x86_64/egg/EGG-INFO/native_libs.txt\n",
            "zip_safe flag not set; analyzing archive contents...\n",
            "__pycache__.torchSODE.cpython-36: module references __file__\n",
            "creating dist\n",
            "creating 'dist/torchSODE-0.0.0-py3.6-linux-x86_64.egg' and adding 'build/bdist.linux-x86_64/egg' to it\n",
            "removing 'build/bdist.linux-x86_64/egg' (and everything under it)\n",
            "Processing torchSODE-0.0.0-py3.6-linux-x86_64.egg\n",
            "creating /usr/local/lib/python3.6/dist-packages/torchSODE-0.0.0-py3.6-linux-x86_64.egg\n",
            "Extracting torchSODE-0.0.0-py3.6-linux-x86_64.egg to /usr/local/lib/python3.6/dist-packages\n",
            "Adding torchSODE 0.0.0 to easy-install.pth file\n",
            "\n",
            "Installed /usr/local/lib/python3.6/dist-packages/torchSODE-0.0.0-py3.6-linux-x86_64.egg\n",
            "Processing dependencies for torchSODE==0.0.0\n",
            "Finished processing dependencies for torchSODE==0.0.0\n"
          ],
          "name": "stdout"
        }
      ]
    },
    {
      "cell_type": "code",
      "metadata": {
        "id": "NUUG5cIIY0Td",
        "colab_type": "code",
        "colab": {
          "base_uri": "https://localhost:8080/",
          "height": 204
        },
        "outputId": "892ef6fb-4af3-4932-a199-de21179882c8"
      },
      "source": [
        "!git clone https://github.com/rtqichen/torchdiffeq\n",
        "!cd torchdiffeq && pip install -e ."
      ],
      "execution_count": 3,
      "outputs": [
        {
          "output_type": "stream",
          "text": [
            "Cloning into 'torchdiffeq'...\n",
            "remote: Enumerating objects: 138, done.\u001b[K\n",
            "remote: Total 138 (delta 0), reused 0 (delta 0), pack-reused 138\u001b[K\n",
            "Receiving objects: 100% (138/138), 688.35 KiB | 1.83 MiB/s, done.\n",
            "Resolving deltas: 100% (55/55), done.\n",
            "Obtaining file:///content/torchdiffeq\n",
            "Requirement already satisfied: torch>=0.4.1 in /usr/local/lib/python3.6/dist-packages (from torchdiffeq==0.0.1) (1.1.0)\n",
            "Requirement already satisfied: numpy in /usr/local/lib/python3.6/dist-packages (from torch>=0.4.1->torchdiffeq==0.0.1) (1.16.3)\n",
            "Installing collected packages: torchdiffeq\n",
            "  Running setup.py develop for torchdiffeq\n",
            "Successfully installed torchdiffeq\n"
          ],
          "name": "stdout"
        }
      ]
    },
    {
      "cell_type": "code",
      "metadata": {
        "id": "MXacZLilY3Tg",
        "colab_type": "code",
        "colab": {
          "base_uri": "https://localhost:8080/",
          "height": 340
        },
        "outputId": "0e0e4760-065b-43c2-a3d6-1febf37cbc03"
      },
      "source": [
        "!pip install ipyexperiments"
      ],
      "execution_count": 4,
      "outputs": [
        {
          "output_type": "stream",
          "text": [
            "Collecting ipyexperiments\n",
            "  Downloading https://files.pythonhosted.org/packages/7f/f4/390edf3862692cabc3901b6c94a708b73bd20a66a2aa294fd3a248cfb37c/ipyexperiments-0.1.16-py3-none-any.whl\n",
            "Requirement already satisfied: nvidia-ml-py3 in /usr/local/lib/python3.6/dist-packages (from ipyexperiments) (7.352.0)\n",
            "Requirement already satisfied: ipython in /usr/local/lib/python3.6/dist-packages (from ipyexperiments) (5.5.0)\n",
            "Requirement already satisfied: psutil in /usr/local/lib/python3.6/dist-packages (from ipyexperiments) (5.4.8)\n",
            "Requirement already satisfied: pygments in /usr/local/lib/python3.6/dist-packages (from ipython->ipyexperiments) (2.1.3)\n",
            "Requirement already satisfied: pickleshare in /usr/local/lib/python3.6/dist-packages (from ipython->ipyexperiments) (0.7.5)\n",
            "Requirement already satisfied: decorator in /usr/local/lib/python3.6/dist-packages (from ipython->ipyexperiments) (4.4.0)\n",
            "Requirement already satisfied: traitlets>=4.2 in /usr/local/lib/python3.6/dist-packages (from ipython->ipyexperiments) (4.3.2)\n",
            "Requirement already satisfied: prompt-toolkit<2.0.0,>=1.0.4 in /usr/local/lib/python3.6/dist-packages (from ipython->ipyexperiments) (1.0.16)\n",
            "Requirement already satisfied: pexpect; sys_platform != \"win32\" in /usr/local/lib/python3.6/dist-packages (from ipython->ipyexperiments) (4.7.0)\n",
            "Requirement already satisfied: setuptools>=18.5 in /usr/local/lib/python3.6/dist-packages (from ipython->ipyexperiments) (41.0.1)\n",
            "Requirement already satisfied: simplegeneric>0.8 in /usr/local/lib/python3.6/dist-packages (from ipython->ipyexperiments) (0.8.1)\n",
            "Requirement already satisfied: ipython-genutils in /usr/local/lib/python3.6/dist-packages (from traitlets>=4.2->ipython->ipyexperiments) (0.2.0)\n",
            "Requirement already satisfied: six in /usr/local/lib/python3.6/dist-packages (from traitlets>=4.2->ipython->ipyexperiments) (1.12.0)\n",
            "Requirement already satisfied: wcwidth in /usr/local/lib/python3.6/dist-packages (from prompt-toolkit<2.0.0,>=1.0.4->ipython->ipyexperiments) (0.1.7)\n",
            "Requirement already satisfied: ptyprocess>=0.5 in /usr/local/lib/python3.6/dist-packages (from pexpect; sys_platform != \"win32\"->ipython->ipyexperiments) (0.6.0)\n",
            "Installing collected packages: ipyexperiments\n",
            "Successfully installed ipyexperiments-0.1.16\n"
          ],
          "name": "stdout"
        }
      ]
    },
    {
      "cell_type": "code",
      "metadata": {
        "id": "X9_2QqyLXtLU",
        "colab_type": "code",
        "colab": {}
      },
      "source": [
        "import ipyexperiments\n",
        "import timeit\n",
        "import time\n",
        "from functools import partial"
      ],
      "execution_count": 0,
      "outputs": []
    },
    {
      "cell_type": "code",
      "metadata": {
        "id": "_O1Ck3i1XtLD",
        "colab_type": "code",
        "colab": {}
      },
      "source": [
        "import torch\n",
        "import torch.nn as nn\n",
        "import numpy as np\n",
        "import torch.nn.functional as F\n",
        "import torch.utils.data as data_utils\n",
        "import matplotlib.pyplot as plt\n",
        "from scipy.integrate import odeint\n",
        "from sklearn.model_selection import train_test_split\n",
        "import sklearn.datasets as datasets\n",
        "import torchSODE\n",
        "import torchdiffeq"
      ],
      "execution_count": 0,
      "outputs": []
    },
    {
      "cell_type": "code",
      "metadata": {
        "id": "zx0BNwUfXtLZ",
        "colab_type": "code",
        "colab": {}
      },
      "source": [
        "torch.cuda.manual_seed_all(2)"
      ],
      "execution_count": 0,
      "outputs": []
    },
    {
      "cell_type": "code",
      "metadata": {
        "id": "iMZYaLLAXtLf",
        "colab_type": "code",
        "colab": {}
      },
      "source": [
        "device = torch.device(\"cuda:0\" if torch.cuda.is_available() else \"cpu\")"
      ],
      "execution_count": 0,
      "outputs": []
    },
    {
      "cell_type": "markdown",
      "metadata": {
        "id": "BDfPeDc5XtL0",
        "colab_type": "text"
      },
      "source": [
        "## Creating dataset"
      ]
    },
    {
      "cell_type": "code",
      "metadata": {
        "id": "ZCPvLlLOXtL3",
        "colab_type": "code",
        "outputId": "175b15b7-f5d0-4dbc-8e9a-897aea5d0e88",
        "colab": {
          "base_uri": "https://localhost:8080/",
          "height": 68
        }
      },
      "source": [
        "data = 'blobs'"
      ],
      "execution_count": 85,
      "outputs": [
        {
          "output_type": "stream",
          "text": [
            "･ RAM:  △Consumed    △Peaked    Used Total | Exec time 0:00:00.001\n",
            "･ CPU:          0          0      4,357 MB |\n",
            "･ GPU:          0          0      4,279 MB |\n"
          ],
          "name": "stdout"
        }
      ]
    },
    {
      "cell_type": "code",
      "metadata": {
        "id": "PadPMyq8XtMA",
        "colab_type": "code",
        "outputId": "320bdb84-f281-46b7-d643-3c529290f0a8",
        "colab": {
          "base_uri": "https://localhost:8080/",
          "height": 68
        }
      },
      "source": [
        "def twospirals(n_points, noise=.5):\n",
        "    \"\"\"\n",
        "     Returns the two spirals dataset.\n",
        "    \"\"\"\n",
        "    n = np.sqrt(np.random.rand(n_points,1)) * 780 * (2*np.pi)/360\n",
        "    d1x = -np.cos(n)*n + np.random.rand(n_points,1) * noise\n",
        "    d1y = np.sin(n)*n + np.random.rand(n_points,1) * noise\n",
        "    return (np.vstack((np.hstack((d1x,d1y)),np.hstack((-d1x,-d1y)))), \n",
        "            np.hstack((np.zeros(n_points),np.ones(n_points))))"
      ],
      "execution_count": 86,
      "outputs": [
        {
          "output_type": "stream",
          "text": [
            "･ RAM:  △Consumed    △Peaked    Used Total | Exec time 0:00:00.006\n",
            "･ CPU:          0          0      4,357 MB |\n",
            "･ GPU:          0          0      4,279 MB |\n"
          ],
          "name": "stdout"
        }
      ]
    },
    {
      "cell_type": "code",
      "metadata": {
        "id": "PkDQHOIYXtMK",
        "colab_type": "code",
        "outputId": "063c58c2-4cca-4231-f695-568106557aef",
        "colab": {
          "base_uri": "https://localhost:8080/",
          "height": 320
        }
      },
      "source": [
        "if data == 'blobs':\n",
        "    X,yn = datasets.make_blobs(n_samples=2048, centers = 2,n_features=2, cluster_std=4)\n",
        "    plt.scatter(X[yn==1,0],X[yn==1,1],color='blue')\n",
        "    plt.scatter(X[yn==0,0],X[yn==0,1],color='red')\n",
        "if data == 'moons':\n",
        "    X, yn = datasets.make_moons(n_samples=10)\n",
        "    plt.scatter(X[yn==1,0],X[yn==1,1],color='blue')\n",
        "    plt.scatter(X[yn==0,0],X[yn==0,1],color='red')\n",
        "if data == 'mclass':\n",
        "    X, yn = datasets.make_classification(n_samples=500,n_informative=4,n_clusters_per_class=3,n_classes=3)\n",
        "    plt.scatter(X[yn==1,0],X[yn==1,1],color='blue')\n",
        "    plt.scatter(X[yn==0,0],X[yn==0,1],color='red')\n",
        "    plt.scatter(X[yn==2,0],X[yn==2,1],color='green')\n",
        "if data == 'spirals':\n",
        "    X, yn = twospirals(512)\n",
        "    plt.title('training set')\n",
        "    plt.plot(X[yn==0,0], X[yn==0,1], '.', label='class 1')\n",
        "    plt.plot(X[yn==1,0], X[yn==1,1], '.', label='class 2')\n",
        "    plt.legend()"
      ],
      "execution_count": 95,
      "outputs": [
        {
          "output_type": "display_data",
          "data": {
            "image/png": "[encoded data removed]",
            "text/plain": [
              "<Figure size 432x288 with 1 Axes>"
            ]
          },
          "metadata": {
            "tags": []
          }
        },
        {
          "output_type": "stream",
          "text": [
            "･ RAM:  △Consumed    △Peaked    Used Total | Exec time 0:00:00.340\n",
            "･ CPU:          0          0      4,357 MB |\n",
            "･ GPU:          0          0      1,217 MB |\n"
          ],
          "name": "stdout"
        }
      ]
    },
    {
      "cell_type": "code",
      "metadata": {
        "id": "3qOdQrNpXtMP",
        "colab_type": "code",
        "outputId": "7e5a64cc-d9a8-4a2b-da21-d499f8386a62",
        "colab": {
          "base_uri": "https://localhost:8080/",
          "height": 68
        }
      },
      "source": [
        "X_train, X_test, y_train, y_test = train_test_split(X, yn, test_size=0.5)"
      ],
      "execution_count": 96,
      "outputs": [
        {
          "output_type": "stream",
          "text": [
            "･ RAM:  △Consumed    △Peaked    Used Total | Exec time 0:00:00.005\n",
            "･ CPU:          0          0      4,357 MB |\n",
            "･ GPU:          0          0      1,217 MB |\n"
          ],
          "name": "stdout"
        }
      ]
    },
    {
      "cell_type": "code",
      "metadata": {
        "id": "AKhO7Jw6XtMW",
        "colab_type": "code",
        "outputId": "39dd3f07-5546-4581-d5b5-c3a0d1f492dd",
        "colab": {
          "base_uri": "https://localhost:8080/",
          "height": 68
        }
      },
      "source": [
        "# choose batch size here\n",
        "bs = 128\n",
        "\n",
        "X_train = torch.Tensor(X_train).to(device)\n",
        "y_train = torch.LongTensor(y_train).to(device)\n",
        "X_test = torch.Tensor(X_test).to(device)\n",
        "y_test = torch.LongTensor(y_test).to(device)\n",
        "\n",
        "train = data_utils.TensorDataset(X_train,y_train)\n",
        "trainloader = data_utils.DataLoader(train, batch_size=bs, shuffle=True)\n",
        "\n",
        "test = data_utils.TensorDataset(X_test,y_test)\n",
        "testloader = data_utils.DataLoader(test, batch_size=bs, shuffle=True)"
      ],
      "execution_count": 97,
      "outputs": [
        {
          "output_type": "stream",
          "text": [
            "･ RAM:  △Consumed    △Peaked    Used Total | Exec time 0:00:00.012\n",
            "･ CPU:          0          0      4,357 MB |\n",
            "･ GPU:          0          0      1,217 MB |\n"
          ],
          "name": "stdout"
        }
      ]
    },
    {
      "cell_type": "markdown",
      "metadata": {
        "id": "Q8Rc7LgRXtMb",
        "colab_type": "text"
      },
      "source": [
        "# Neural Network definition"
      ]
    },
    {
      "cell_type": "code",
      "metadata": {
        "id": "kxs4NyUiXtMb",
        "colab_type": "code",
        "outputId": "504b607d-4b1a-445c-c2dd-cf8242398511",
        "colab": {
          "base_uri": "https://localhost:8080/",
          "height": 68
        }
      },
      "source": [
        "class MLP(nn.Module):\n",
        "    def __init__(self, dense_layers, softmax = True):\n",
        "        '''\n",
        "        Simple dense MLP class used as predictor\n",
        "        \n",
        "        :smax_l: leave True for softmax applied to ouput\n",
        "        '''\n",
        "        super().__init__()\n",
        "        self.dense_layers = nn.ModuleList([nn.Linear(dense_layers[i], dense_layers[i + 1]) \\\n",
        "                                           for i in range(len(dense_layers) - 1)])\n",
        "        self.softmax = softmax\n",
        "        \n",
        "    def getLength(self):\n",
        "        return len(self.dense_layers)\n",
        "\n",
        "    def forward(self, x):\n",
        "        x = x.view(x.size(0), -1)\n",
        "        for l in self.dense_layers:\n",
        "            l_x = l(x)\n",
        "            x = F.relu(l_x)\n",
        "        if not self.softmax: return l_x\n",
        "        else: return F.log_softmax(l_x, dim=-1)"
      ],
      "execution_count": 98,
      "outputs": [
        {
          "output_type": "stream",
          "text": [
            "･ RAM:  △Consumed    △Peaked    Used Total | Exec time 0:00:00.019\n",
            "･ CPU:          0          0      4,357 MB |\n",
            "･ GPU:          0          0      1,217 MB |\n"
          ],
          "name": "stdout"
        }
      ]
    },
    {
      "cell_type": "markdown",
      "metadata": {
        "id": "AjuWJW6hXtMg",
        "colab_type": "text"
      },
      "source": [
        "# Training"
      ]
    },
    {
      "cell_type": "code",
      "metadata": {
        "id": "T0lm6tQgXtMh",
        "colab_type": "code",
        "outputId": "bab2ec07-6d42-4b55-85fe-f48f9173e813",
        "colab": {
          "base_uri": "https://localhost:8080/",
          "height": 578
        }
      },
      "source": [
        "exp1 = ipyexperiments.IPyExperimentsPytorch()"
      ],
      "execution_count": 99,
      "outputs": [
        {
          "output_type": "stream",
          "text": [
            "\n",
            "*** Experiment started with the Pytorch backend\n",
            "Device: ID 0, Tesla T4 (15079 RAM)\n",
            "\n",
            "\n",
            "*** Current state:\n",
            "RAM:    Used    Free   Total       Util\n",
            "CPU:   4,357  10,250  13,022 MB  33.46% \n",
            "GPU:   1,217  13,861  15,079 MB   8.08% \n",
            "\n",
            "\n",
            "･ RAM:  △Consumed    △Peaked    Used Total | Exec time 0:00:00.231\n",
            "･ CPU:          0          0      4,357 MB |\n",
            "･ GPU:          0          0      1,217 MB |\n",
            "\n",
            "IPyExperimentsPytorch: Finishing\n",
            "\n",
            "*** Experiment finished in 00:00:26 (elapsed wallclock time)\n",
            "\n",
            "*** Experiment memory:\n",
            "RAM: Consumed       Reclaimed\n",
            "CPU:        0        0 MB (100.00%)\n",
            "GPU:   -3,062        0 MB ( -0.00%)\n",
            "\n",
            "*** Current state:\n",
            "RAM:    Used    Free   Total       Util\n",
            "CPU:   4,357  10,250  13,022 MB  33.46% \n",
            "GPU:   1,217  13,861  15,079 MB   8.08% \n",
            "\n",
            "\n",
            "･ RAM:  △Consumed    △Peaked    Used Total | Exec time 0:00:00.147\n",
            "･ CPU:          0          0      4,357 MB |\n",
            "･ GPU:          0          0      1,217 MB |\n"
          ],
          "name": "stdout"
        }
      ]
    },
    {
      "cell_type": "code",
      "metadata": {
        "id": "wqjL42m1avRb",
        "colab_type": "code",
        "colab": {
          "base_uri": "https://localhost:8080/",
          "height": 68
        },
        "outputId": "2e979b18-762a-4219-83f0-b1c7f3bad1bf"
      },
      "source": [
        "m = MLP([2, 10000, 10000, 1000, 1000, 2]).to(device)\n",
        "\n",
        "def count_parameters(model):\n",
        "    return sum(p.numel() for p in model.parameters() if p.requires_grad)\n",
        "\n",
        "#111 044 002 parameters\n",
        "count_parameters(m)"
      ],
      "execution_count": 100,
      "outputs": [
        {
          "output_type": "execute_result",
          "data": {
            "text/plain": [
              "111044002"
            ]
          },
          "metadata": {
            "tags": []
          },
          "execution_count": 100
        },
        {
          "output_type": "stream",
          "text": [
            "･ RAM:  △Consumed    △Peaked    Used Total | Exec time 0:00:01.127\n",
            "･ CPU:          0          0      4,357 MB |\n",
            "･ GPU:          0        422      1,217 MB |\n"
          ],
          "name": "stdout"
        }
      ]
    },
    {
      "cell_type": "code",
      "metadata": {
        "id": "Y-mVkyh7bM_1",
        "colab_type": "code",
        "colab": {
          "base_uri": "https://localhost:8080/",
          "height": 68
        },
        "outputId": "4d27c1e7-ce9f-4684-b654-29ffbdd6a0f6"
      },
      "source": [
        "# util to generate F matrix\n",
        "def generateFS(size, UL, UR, LL, LR):\n",
        "  n = size//2\n",
        "  ul = UL*torch.eye(n)\n",
        "  ur = UR*torch.eye(n) \n",
        "  ll = LL*torch.eye(n)\n",
        "  lr = LR*torch.eye(n)\n",
        "  top = torch.cat((ul, ur),1)\n",
        "  bottom = torch.cat((ll, lr),1)\n",
        "  return torch.cat((top, bottom), 0)\n",
        "\n",
        "Fm = torch.eye(1).to(device)"
      ],
      "execution_count": 101,
      "outputs": [
        {
          "output_type": "stream",
          "text": [
            "･ RAM:  △Consumed    △Peaked    Used Total | Exec time 0:00:00.012\n",
            "･ CPU:          0          0      4,357 MB |\n",
            "･ GPU:          0          0      1,217 MB |\n"
          ],
          "name": "stdout"
        }
      ]
    },
    {
      "cell_type": "code",
      "metadata": {
        "id": "fj8tgJ2nXtMw",
        "colab_type": "code",
        "outputId": "758b18a1-6695-4910-f4c5-4233a03288f9",
        "colab": {
          "base_uri": "https://localhost:8080/",
          "height": 102
        }
      },
      "source": [
        "#torchSODE SGD-like\n",
        "\n",
        "m1 = MLP([2, 10000, 10000, 1000, 1000, 2]).to(device)\n",
        "criterion = F.nll_loss\n",
        "optimizer = torch.optim.SGD(m1.parameters(), lr=0.01, momentum=0.9)\n",
        "epochs = 100\n",
        "dt = 0.01 \n",
        "ode_steps = 1\n",
        "# timer for updating loop only\n",
        "end_updating_timer1 = 0\n",
        "\n",
        "training_timer1 = time.process_time()\n",
        "for e in range(epochs):\n",
        "    dataiter = iter(trainloader)\n",
        "\n",
        "    for i, d in enumerate(dataiter):\n",
        "        x, y = next(dataiter)\n",
        "        x, y = x.cuda(), y.cuda()\n",
        "        for j in range(ode_steps):\n",
        "            loss = criterion(m1(x), y)\n",
        "            loss.backward()\n",
        "            updating_timer1 = time.process_time()\n",
        "            with torch.no_grad():\n",
        "                for p in m1.parameters():\n",
        "                    torchSODE.solve(-Fm, p.view(-1), p.grad.view(-1), dt, 1, 'Euler')\n",
        "            end_updating_timer1 += time.process_time() - updating_timer1\n",
        "        m1.zero_grad()\n",
        "\n",
        "end_training1 = time.process_time() - training_timer1\n",
        "print(f\"Entire training process took {round(end_training1, 4)} (s)\")\n",
        "print(f\"Updating the parameters took {round(end_updating_timer1, 4)} (s)\")"
      ],
      "execution_count": 102,
      "outputs": [
        {
          "output_type": "stream",
          "text": [
            "Entire training process took 16.1914 (s)\n",
            "Updating the parameters took 13.8606 (s)\n",
            "･ RAM:  △Consumed    △Peaked    Used Total | Exec time 0:00:16.741\n",
            "･ CPU:          0          0      4,357 MB |\n",
            "･ GPU:        864        424      2,081 MB |\n"
          ],
          "name": "stdout"
        }
      ]
    },
    {
      "cell_type": "code",
      "metadata": {
        "id": "EpXSAao9YIu3",
        "colab_type": "code",
        "colab": {
          "base_uri": "https://localhost:8080/",
          "height": 102
        },
        "outputId": "bf0f8185-3d1a-47e4-b467-341a32f5973d"
      },
      "source": [
        "#torchSODE with less params (for torchdiffeq)\n",
        "\n",
        "m1_small = MLP([2, 1000, 1000, 1000, 1000, 2]).to(device)\n",
        "criterion = F.nll_loss\n",
        "optimizer = torch.optim.SGD(m1.parameters(), lr=0.01, momentum=0.9)\n",
        "epochs = 100\n",
        "dt = 0.01 \n",
        "ode_steps = 1\n",
        "# timer for updating loop only\n",
        "end_updating_timer1 = 0\n",
        "\n",
        "training_timer1 = time.process_time()\n",
        "for e in range(epochs):\n",
        "    dataiter = iter(trainloader)\n",
        "\n",
        "    for i, d in enumerate(dataiter):\n",
        "        x, y = next(dataiter)\n",
        "        x, y = x.cuda(), y.cuda()\n",
        "        for j in range(ode_steps):\n",
        "            loss = criterion(m1_small(x), y)\n",
        "            loss.backward()\n",
        "            updating_timer1 = time.process_time()\n",
        "            with torch.no_grad():\n",
        "                for p in m1_small.parameters():\n",
        "                    torchSODE.solve(-Fm, p.view(-1), p.grad.view(-1), dt, 1, 'Euler')\n",
        "            end_updating_timer1 += time.process_time() - updating_timer1\n",
        "        m1_small.zero_grad()\n",
        "\n",
        "end_training1 = time.process_time() - training_timer1\n",
        "print(f\"Entire training process took {round(end_training1, 4)} (s)\")\n",
        "print(f\"Updating the parameters took {round(end_updating_timer1, 4)} (s)\")"
      ],
      "execution_count": 139,
      "outputs": [
        {
          "output_type": "stream",
          "text": [
            "Entire training process took 3.0164 (s)\n",
            "Updating the parameters took 0.8056 (s)\n",
            "･ RAM:  △Consumed    △Peaked    Used Total | Exec time 0:00:02.641\n",
            "･ CPU:          0          0      4,361 MB |\n",
            "･ GPU:          0         24      2,105 MB |\n"
          ],
          "name": "stdout"
        }
      ]
    },
    {
      "cell_type": "code",
      "metadata": {
        "id": "VNACLFFFJQnZ",
        "colab_type": "code",
        "colab": {
          "base_uri": "https://localhost:8080/",
          "height": 102
        },
        "outputId": "2909471c-667c-4325-bb7a-703a5f788d0e"
      },
      "source": [
        "#torchSODE SGD-momentum like\n",
        "\n",
        "m1_sk = MLP([2, 10000, 10000, 1000, 1000, 2]).to(device)\n",
        "pdot = torch.zeros(count_parameters(m1)).to(device)\n",
        "criterion = F.nll_loss\n",
        "optimizer = torch.optim.SGD(m1.parameters(), lr=0.01, momentum=0.9)\n",
        "epochs = 50\n",
        "dt = 0.01 \n",
        "Fm = generateFS(2, 0, 1, -1, -2).to(device)\n",
        "ode_steps = 1\n",
        "# timer for updating loop only\n",
        "end_updating_timer1 = 0\n",
        "\n",
        "training_timer1 = time.process_time()\n",
        "for e in range(epochs):\n",
        "    dataiter = iter(trainloader)\n",
        "\n",
        "    for i, d in enumerate(dataiter):\n",
        "        x, y = next(dataiter)\n",
        "        x, y = x.cuda(), y.cuda()\n",
        "        for j in range(ode_steps):\n",
        "            loss = criterion(m1_sk(x), y)\n",
        "            loss.backward()\n",
        "            updating_timer1 = time.process_time()\n",
        "            with torch.no_grad():\n",
        "                k = 0\n",
        "                for p in m1_sk.parameters():\n",
        "                    n = torch.numel(p)\n",
        "                    torchSODE.solve(Fm, torch.cat((p.view(-1), pdot[k:k+n]), 0), \n",
        "                                    torch.cat((p.grad.view(-1), 2 * pdot[k:k+n]), 0),\n",
        "                                    dt, 1, 'Euler')\n",
        "                    k += n\n",
        "            end_updating_timer1 += time.process_time() - updating_timer1\n",
        "        m1_sk.zero_grad()\n",
        "\n",
        "end_training1 = time.process_time() - training_timer1\n",
        "print(f\"Entire training process took {round(end_training1, 4)} (s)\")\n",
        "print(f\"Updating the parameters took {round(end_updating_timer1, 4)} (s)\")"
      ],
      "execution_count": 73,
      "outputs": [
        {
          "output_type": "stream",
          "text": [
            "Entire training process took 12.6402 (s)\n",
            "Updating the parameters took 11.5887 (s)\n",
            "･ RAM:  △Consumed    △Peaked    Used Total | Exec time 0:00:13.526\n",
            "･ CPU:          0          0      4,355 MB |\n",
            "･ GPU:     -1,688      2,376      4,215 MB |\n"
          ],
          "name": "stdout"
        }
      ]
    },
    {
      "cell_type": "code",
      "metadata": {
        "id": "9_OOxKGQZDit",
        "colab_type": "code",
        "colab": {
          "base_uri": "https://localhost:8080/",
          "height": 102
        },
        "outputId": "228a9ef9-c741-4572-c9d3-3af329746eda"
      },
      "source": [
        "#torch.optim SGD and SGD with momentum \n",
        "\n",
        "m2 = MLP([2, 10000, 10000, 1000, 1000, 2]).to(device)\n",
        "criterion = F.nll_loss\n",
        "optimizer = torch.optim.SGD(m2.parameters(), lr=0.01, momentum=0.9)\n",
        "epochs = 100\n",
        "dt = 0.01 \n",
        "ode_steps = 1\n",
        "# timer for updating loop only\n",
        "end_updating_timer2 = 0\n",
        "\n",
        "training_timer2 = time.process_time()\n",
        "for e in range(epochs):\n",
        "    dataiter = iter(trainloader)\n",
        "\n",
        "    for i, d in enumerate(dataiter):\n",
        "        x, y = next(dataiter)\n",
        "        x, y = x.cuda(), y.cuda()\n",
        "        loss = criterion(m2(x), y)\n",
        "        loss.backward()\n",
        "        updating_timer2 = time.process_time()\n",
        "        optimizer.step() \n",
        "        end_updating_timer2 += time.process_time() - updating_timer2\n",
        "        optimizer.zero_grad()\n",
        "        \n",
        "end_training2 = time.process_time() - training_timer2\n",
        "print(f\"Entire training process took {round(end_training2, 4)} (s)\")\n",
        "print(f\"Updating the parameters took {round(end_updating_timer2, 4)} (s)\")"
      ],
      "execution_count": 37,
      "outputs": [
        {
          "output_type": "stream",
          "text": [
            "Entire training process took 19.8367 (s)\n",
            "Updating the parameters took 14.2507 (s)\n",
            "･ RAM:  △Consumed    △Peaked    Used Total | Exec time 0:00:17.631\n",
            "･ CPU:          0          0      4,349 MB |\n",
            "･ GPU:        422        442      3,793 MB |\n"
          ],
          "name": "stdout"
        }
      ]
    },
    {
      "cell_type": "code",
      "metadata": {
        "id": "-cB_vq0Mf9zz",
        "colab_type": "code",
        "colab": {
          "base_uri": "https://localhost:8080/",
          "height": 68
        },
        "outputId": "5fca376f-e093-4961-b76b-90f849c1afb9"
      },
      "source": [
        "# model class for torchdiffeq\n",
        "\n",
        "class SparseBlockModel(object):\n",
        "    def __init__(self, F, numpy=True):\n",
        "        if numpy: F = F.numpy()\n",
        "        self.F = F[0][0]\n",
        "    def __call__(self, dt, x, grad=None):\n",
        "        dxdt = self.F * grad * x\n",
        "        return dxdt"
      ],
      "execution_count": 17,
      "outputs": [
        {
          "output_type": "stream",
          "text": [
            "･ RAM:  △Consumed    △Peaked    Used Total | Exec time 0:00:00.008\n",
            "･ CPU:          0          0      3,495 MB |\n",
            "･ GPU:          0          0      2,945 MB |\n"
          ],
          "name": "stdout"
        }
      ]
    },
    {
      "cell_type": "code",
      "metadata": {
        "id": "MS4sET0BZDr4",
        "colab_type": "code",
        "colab": {
          "base_uri": "https://localhost:8080/",
          "height": 102
        },
        "outputId": "705670c2-e8ca-4e2f-8edf-48a515263ff5"
      },
      "source": [
        "#torchdiff SGD-like\n",
        "\n",
        "m3 = MLP([2, 1000, 1000, 1000, 1000, 2]).to(device)\n",
        "Fm = torch.eye(1).to(device)\n",
        "model = SparseBlockModel(Fm, False)\n",
        "criterion = F.nll_loss\n",
        "optimizer = torch.optim.SGD(m3.parameters(), lr=0.01, momentum=0.9)\n",
        "epochs = 100\n",
        "t = torch.linspace(0, 0.01)\n",
        "ode_steps = 1\n",
        "\n",
        "# timer for updating loop only\n",
        "end_updating_timer3 = 0\n",
        "\n",
        "training_timer3 = time.process_time()\n",
        "for e in range(epochs):\n",
        "    dataiter = iter(trainloader)\n",
        "\n",
        "    for i, d in enumerate(dataiter):\n",
        "        x, y = next(dataiter)\n",
        "        x, y = x.cuda(), y.cuda()\n",
        "        for j in range(ode_steps):\n",
        "            loss = criterion(m3(x), y)\n",
        "            loss.backward()\n",
        "            updating_timer3 = time.process_time()\n",
        "            with torch.no_grad():\n",
        "                for p in m3.parameters():\n",
        "                    p = torchdiffeq.odeint(partial(model, grad=p.grad.view(-1)), p.view(-1), t, method='euler')\n",
        "            end_updating_timer3 += time.process_time() - updating_timer3\n",
        "        m3.zero_grad()\n",
        "        \n",
        "end_training3 = time.process_time() - training_timer1\n",
        "print(f\"Entire training process took {round(end_training3, 4)} (s)\")\n",
        "print(f\"Updating the parameters took {round(end_updating_timer3, 4)} (s)\")"
      ],
      "execution_count": 18,
      "outputs": [
        {
          "output_type": "stream",
          "text": [
            "Entire training process took 160.37 (s)\n",
            "Updating the parameters took 142.7278 (s)\n",
            "･ RAM:  △Consumed    △Peaked    Used Total | Exec time 0:01:59.443\n",
            "･ CPU:          0          0      3,496 MB |\n",
            "･ GPU:          2        784      2,947 MB |\n"
          ],
          "name": "stdout"
        }
      ]
    },
    {
      "cell_type": "code",
      "metadata": {
        "id": "p2n53VAEXtM4",
        "colab_type": "code",
        "colab": {}
      },
      "source": [
        "del exp1"
      ],
      "execution_count": 0,
      "outputs": []
    },
    {
      "cell_type": "markdown",
      "metadata": {
        "id": "35banHMIXtNY",
        "colab_type": "text"
      },
      "source": [
        "# Boundary plot"
      ]
    },
    {
      "cell_type": "code",
      "metadata": {
        "id": "DXHrE7mKXtNa",
        "colab_type": "code",
        "outputId": "92c0dc8f-dba7-4eb3-d0de-ec99d1a40080",
        "colab": {
          "base_uri": "https://localhost:8080/",
          "height": 68
        }
      },
      "source": [
        "def genpoints(xmin,xmax,ymin,ymax,number_points):\n",
        "    xx = torch.linspace(xmin,xmax,number_points)\n",
        "    yy = torch.linspace(ymin,ymax,number_points)\n",
        "    c = 1\n",
        "    P = []\n",
        "    for i in range(number_points):\n",
        "        for j in range(number_points):\n",
        "            P.append([xx[i],yy[j]])\n",
        "    return torch.Tensor(P).cuda()"
      ],
      "execution_count": 112,
      "outputs": [
        {
          "output_type": "stream",
          "text": [
            "･ RAM:  △Consumed    △Peaked    Used Total | Exec time 0:00:00.009\n",
            "･ CPU:          0          0      4,357 MB |\n",
            "･ GPU:          0          0      2,105 MB |\n"
          ],
          "name": "stdout"
        }
      ]
    },
    {
      "cell_type": "code",
      "metadata": {
        "id": "7ZKRIY1UXtNh",
        "colab_type": "code",
        "outputId": "5a88ed73-bc72-49b8-b548-3ba0dc1c95c3",
        "colab": {
          "base_uri": "https://localhost:8080/",
          "height": 68
        }
      },
      "source": [
        "mp = genpoints(-20,25,-20,25,100)"
      ],
      "execution_count": 113,
      "outputs": [
        {
          "output_type": "stream",
          "text": [
            "･ RAM:  △Consumed    △Peaked    Used Total | Exec time 0:00:00.081\n",
            "･ CPU:          0          2      4,357 MB |\n",
            "･ GPU:          0          0      2,105 MB |\n"
          ],
          "name": "stdout"
        }
      ]
    },
    {
      "cell_type": "code",
      "metadata": {
        "scrolled": true,
        "id": "erm77o88XtNq",
        "colab_type": "code",
        "outputId": "88570c82-5ad4-4697-c67e-0ed1701fba86",
        "colab": {
          "base_uri": "https://localhost:8080/",
          "height": 68
        }
      },
      "source": [
        "y, idx = torch.max(torch.exp(m1.forward(mp)), 1)"
      ],
      "execution_count": 114,
      "outputs": [
        {
          "output_type": "stream",
          "text": [
            "･ RAM:  △Consumed    △Peaked    Used Total | Exec time 0:00:00.017\n",
            "･ CPU:          0          0      4,357 MB |\n",
            "･ GPU:      1,688          0      3,793 MB |\n"
          ],
          "name": "stdout"
        }
      ]
    },
    {
      "cell_type": "code",
      "metadata": {
        "id": "Dg3ndqWCXtNt",
        "colab_type": "code",
        "outputId": "94d4fcd5-8b7b-4db4-9936-7155fc9ef4de",
        "colab": {
          "base_uri": "https://localhost:8080/",
          "height": 337
        }
      },
      "source": [
        "mp_r = mp[idx==0]\n",
        "mp_b = mp[idx==1]\n",
        "plt.figure(figsize=(4.5,4))\n",
        "plt.scatter(mp_r[:,0].cpu(),mp_r[:,1].cpu(),color='orange')\n",
        "plt.scatter(mp_b[:,0].cpu(),mp_b[:,1].cpu(),color='cyan')\n",
        "plt.scatter(X[yn==1,0],X[yn==1,1],color='blue')\n",
        "plt.scatter(X[yn==0,0],X[yn==0,1],color='red')"
      ],
      "execution_count": 115,
      "outputs": [
        {
          "output_type": "execute_result",
          "data": {
            "text/plain": [
              "<matplotlib.collections.PathCollection at 0x7f5c4a17e470>"
            ]
          },
          "metadata": {
            "tags": []
          },
          "execution_count": 115
        },
        {
          "output_type": "display_data",
          "data": {
            "image/png": "[encoded data removed]",
            "text/plain": [
              "<Figure size 324x288 with 1 Axes>"
            ]
          },
          "metadata": {
            "tags": []
          }
        },
        {
          "output_type": "stream",
          "text": [
            "･ RAM:  △Consumed    △Peaked    Used Total | Exec time 0:00:00.704\n",
            "･ CPU:          0          0      4,357 MB |\n",
            "･ GPU:          0          0      3,793 MB |\n"
          ],
          "name": "stdout"
        }
      ]
    },
    {
      "cell_type": "markdown",
      "metadata": {
        "id": "kFB9p-lnncMP",
        "colab_type": "text"
      },
      "source": [
        "# Plots"
      ]
    },
    {
      "cell_type": "code",
      "metadata": {
        "id": "bfWs19nZIl0j",
        "colab_type": "code",
        "colab": {
          "base_uri": "https://localhost:8080/",
          "height": 68
        },
        "outputId": "5bb1254a-1a3c-4a95-aeb7-d37098cd366f"
      },
      "source": [
        "torchdiag_tot = np.array([160.37, 3.0164, 16.1914, 17.0194])\n",
        "torchdiag_tr = np.array([142.7278, 0.8056, 13.8606, 0.4075])\n",
        "torchdiag_diff = torchdiag_tot - torchdiag_tr\n",
        "\n",
        "torch_tot_sk = np.array([25.856, 19.8367])\n",
        "torch_tr_sk = np.array([23.8455, 14.2507])\n",
        "torch_diff_sk = torch_tot_sk - torch_tr_sk"
      ],
      "execution_count": 161,
      "outputs": [
        {
          "output_type": "stream",
          "text": [
            "･ RAM:  △Consumed    △Peaked    Used Total | Exec time 0:00:00.006\n",
            "･ CPU:          0          0      4,367 MB |\n",
            "･ GPU:          0          0      2,105 MB |\n"
          ],
          "name": "stdout"
        }
      ]
    },
    {
      "cell_type": "code",
      "metadata": {
        "id": "5SqYQ_eoQks6",
        "colab_type": "code",
        "colab": {
          "base_uri": "https://localhost:8080/",
          "height": 349
        },
        "outputId": "8dc03b24-8acd-4c1b-c673-02edc5d5ffc3"
      },
      "source": [
        "width = 0.45\n",
        "y_pos = np.arange(4)\n",
        "plt.bar(y_pos, torchdiag_diff, width, color='blue')\n",
        "plt.bar(y_pos, torchdiag_tr, width, bottom=torchdiag_diff, color='green')\n",
        "plt.legend(['Other', 'Update'])\n",
        "ax = plt.gca()\n",
        "ax.set_xticklabels(['', 'torchdiffeq-3', '', 'torchSODE-3', '', 'torchSODE-100', '', 'optim.SGD-100'])\n",
        "plt.ylabel('time / 100 epochs')\n",
        "plt.title('Training (diagonal - SGD)')"
      ],
      "execution_count": 184,
      "outputs": [
        {
          "output_type": "execute_result",
          "data": {
            "text/plain": [
              "Text(0.5, 1.0, 'Training (diagonal - SGD)')"
            ]
          },
          "metadata": {
            "tags": []
          },
          "execution_count": 184
        },
        {
          "output_type": "display_data",
          "data": {
            "image/png": "[encoded data removed]",
            "text/plain": [
              "<Figure size 432x288 with 1 Axes>"
            ]
          },
          "metadata": {
            "tags": []
          }
        },
        {
          "output_type": "stream",
          "text": [
            "･ RAM:  △Consumed    △Peaked    Used Total | Exec time 0:00:00.269\n",
            "･ CPU:          0          0      4,375 MB |\n",
            "･ GPU:          0          0      2,105 MB |\n"
          ],
          "name": "stdout"
        }
      ]
    },
    {
      "cell_type": "code",
      "metadata": {
        "id": "8mC1e57Xnc4q",
        "colab_type": "code",
        "colab": {
          "base_uri": "https://localhost:8080/",
          "height": 349
        },
        "outputId": "6272b371-8c5c-44c7-c4ad-b0e68636654f"
      },
      "source": [
        "width = 0.45\n",
        "y_pos = np.arange(2)\n",
        "plt.bar(y_pos, torch_diff_sk, width, color='blue')\n",
        "plt.bar(y_pos, torch_tr_sk, width, bottom=torch_diff_sk, color='green')\n",
        "plt.legend(['Other', 'Update'])\n",
        "ax = plt.gca()\n",
        "ax.set_xticklabels(['', '', 'torchSODE-skew', '', '', '', '', 'optim.SGD (momentum)', ''])\n",
        "plt.ylabel('time / 100 epochs')\n",
        "plt.title('Training (skew block - SGD with momentum)')"
      ],
      "execution_count": 189,
      "outputs": [
        {
          "output_type": "execute_result",
          "data": {
            "text/plain": [
              "Text(0.5, 1.0, 'Training (skew block - SGD with momentum)')"
            ]
          },
          "metadata": {
            "tags": []
          },
          "execution_count": 189
        },
        {
          "output_type": "display_data",
          "data": {
            "image/png": "[encoded data removed]",
            "text/plain": [
              "<Figure size 432x288 with 1 Axes>"
            ]
          },
          "metadata": {
            "tags": []
          }
        },
        {
          "output_type": "stream",
          "text": [
            "･ RAM:  △Consumed    △Peaked    Used Total | Exec time 0:00:00.250\n",
            "･ CPU:          0          0      4,377 MB |\n",
            "･ GPU:          0          0      2,105 MB |\n"
          ],
          "name": "stdout"
        }
      ]
    },
    {
      "cell_type": "code",
      "metadata": {
        "id": "qVJTaSf3csfA",
        "colab_type": "code",
        "colab": {
          "base_uri": "https://localhost:8080/",
          "height": 68
        },
        "outputId": "eef3685b-d185-4fb2-a024-ef1a90181548"
      },
      "source": [
        "memory = np.array([784, 24, 240])"
      ],
      "execution_count": 193,
      "outputs": [
        {
          "output_type": "stream",
          "text": [
            "･ RAM:  △Consumed    △Peaked    Used Total | Exec time 0:00:00.001\n",
            "･ CPU:          0          0      4,378 MB |\n",
            "･ GPU:          0          0      2,105 MB |\n"
          ],
          "name": "stdout"
        }
      ]
    },
    {
      "cell_type": "code",
      "metadata": {
        "id": "mZAGemRlcggw",
        "colab_type": "code",
        "colab": {
          "base_uri": "https://localhost:8080/",
          "height": 434
        },
        "outputId": "521f9cd4-1084-46bb-d0ad-34225b239bae"
      },
      "source": [
        "width = 0.45\n",
        "y_pos = np.arange(3)\n",
        "plt.bar(y_pos, memory, width, color='orange')\n",
        "plt.title('GPU memory used for training (MB)')\n",
        "ax = plt.gca()\n",
        "ax.set_xticklabels(['', 'torchdiffeq-3', '', 'torchSODE-3', '', 'torchSODE-100'])"
      ],
      "execution_count": 199,
      "outputs": [
        {
          "output_type": "execute_result",
          "data": {
            "text/plain": [
              "[Text(0, 0, ''),\n",
              " Text(0, 0, 'torchdiffeq-3'),\n",
              " Text(0, 0, ''),\n",
              " Text(0, 0, 'torchSODE-3'),\n",
              " Text(0, 0, ''),\n",
              " Text(0, 0, 'torchSODE-100')]"
            ]
          },
          "metadata": {
            "tags": []
          },
          "execution_count": 199
        },
        {
          "output_type": "display_data",
          "data": {
            "image/png": "[encoded data removed]",
            "text/plain": [
              "<Figure size 432x288 with 1 Axes>"
            ]
          },
          "metadata": {
            "tags": []
          }
        },
        {
          "output_type": "stream",
          "text": [
            "･ RAM:  △Consumed    △Peaked    Used Total | Exec time 0:00:00.207\n",
            "･ CPU:          0          0      4,379 MB |\n",
            "･ GPU:          0          0      2,105 MB |\n"
          ],
          "name": "stdout"
        }
      ]
    },
    {
      "cell_type": "code",
      "metadata": {
        "id": "FDI3Lch2c_X9",
        "colab_type": "code",
        "colab": {}
      },
      "source": [
        ""
      ],
      "execution_count": 0,
      "outputs": []
    }
  ]
}