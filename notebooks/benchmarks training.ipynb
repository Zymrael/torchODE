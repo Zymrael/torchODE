{
 "cells": [
  {
   "cell_type": "code",
   "execution_count": null,
   "metadata": {
    "colab": {
     "base_uri": "https://localhost:8080/",
     "height": 102
    },
    "colab_type": "code",
    "id": "UAqL75a9ZMie",
    "outputId": "4188c59c-661a-4689-b849-f48246f12547"
   },
   "outputs": [],
   "source": [
    "!git clone https://github.com/lyap-ai/torchSODE.git"
   ]
  },
  {
   "cell_type": "code",
   "execution_count": null,
   "metadata": {
    "colab": {
     "base_uri": "https://localhost:8080/",
     "height": 768
    },
    "colab_type": "code",
    "id": "IDKMk0cTYv2Z",
    "outputId": "8b806be2-2311-4594-ffd5-32dd0e9a29d7"
   },
   "outputs": [],
   "source": [
    "!cd ../src/ && python3 setup.py install"
   ]
  },
  {
   "cell_type": "code",
   "execution_count": null,
   "metadata": {
    "colab": {
     "base_uri": "https://localhost:8080/",
     "height": 204
    },
    "colab_type": "code",
    "id": "NUUG5cIIY0Td",
    "outputId": "892ef6fb-4af3-4932-a199-de21179882c8"
   },
   "outputs": [],
   "source": [
    "!git clone https://github.com/rtqichen/torchdiffeq\n",
    "!cd torchdiffeq && pip install -e ."
   ]
  },
  {
   "cell_type": "code",
   "execution_count": null,
   "metadata": {
    "colab": {
     "base_uri": "https://localhost:8080/",
     "height": 340
    },
    "colab_type": "code",
    "id": "MXacZLilY3Tg",
    "outputId": "0e0e4760-065b-43c2-a3d6-1febf37cbc03"
   },
   "outputs": [],
   "source": [
    "!pip install ipyexperiments"
   ]
  },
  {
   "cell_type": "code",
   "execution_count": 1,
   "metadata": {
    "colab": {},
    "colab_type": "code",
    "id": "X9_2QqyLXtLU"
   },
   "outputs": [],
   "source": [
    "import ipyexperiments\n",
    "import timeit\n",
    "import time\n",
    "from functools import partial"
   ]
  },
  {
   "cell_type": "code",
   "execution_count": 2,
   "metadata": {
    "colab": {},
    "colab_type": "code",
    "id": "_O1Ck3i1XtLD"
   },
   "outputs": [],
   "source": [
    "import torch\n",
    "import torch.nn as nn\n",
    "import numpy as np\n",
    "import torch.nn.functional as F\n",
    "import torch.utils.data as data_utils\n",
    "import matplotlib.pyplot as plt\n",
    "from scipy.integrate import odeint\n",
    "from sklearn.model_selection import train_test_split\n",
    "import sklearn.datasets as datasets\n",
    "import torchSODE\n",
    "import torchdiffeq\n",
    "import csv"
   ]
  },
  {
   "cell_type": "code",
   "execution_count": 3,
   "metadata": {
    "colab": {},
    "colab_type": "code",
    "id": "zx0BNwUfXtLZ"
   },
   "outputs": [],
   "source": [
    "torch.cuda.manual_seed_all(2)"
   ]
  },
  {
   "cell_type": "code",
   "execution_count": 4,
   "metadata": {
    "colab": {},
    "colab_type": "code",
    "id": "iMZYaLLAXtLf"
   },
   "outputs": [],
   "source": [
    "device = torch.device(\"cuda:0\" if torch.cuda.is_available() else \"cpu\")"
   ]
  },
  {
   "cell_type": "markdown",
   "metadata": {
    "colab_type": "text",
    "id": "BDfPeDc5XtL0"
   },
   "source": [
    "## Creating dataset"
   ]
  },
  {
   "cell_type": "code",
   "execution_count": 5,
   "metadata": {
    "colab": {
     "base_uri": "https://localhost:8080/",
     "height": 68
    },
    "colab_type": "code",
    "id": "PadPMyq8XtMA",
    "outputId": "320bdb84-f281-46b7-d643-3c529290f0a8"
   },
   "outputs": [],
   "source": [
    "def twospirals(n_points, noise=.5):\n",
    "    \"\"\"\n",
    "     Returns the two spirals dataset.\n",
    "    \"\"\"\n",
    "    n = np.sqrt(np.random.rand(n_points,1)) * 780 * (2*np.pi)/360\n",
    "    d1x = -np.cos(n)*n + np.random.rand(n_points,1) * noise\n",
    "    d1y = np.sin(n)*n + np.random.rand(n_points,1) * noise\n",
    "    return (np.vstack((np.hstack((d1x,d1y)),np.hstack((-d1x,-d1y)))), \n",
    "            np.hstack((np.zeros(n_points),np.ones(n_points))))"
   ]
  },
  {
   "cell_type": "code",
   "execution_count": 6,
   "metadata": {
    "colab": {
     "base_uri": "https://localhost:8080/",
     "height": 320
    },
    "colab_type": "code",
    "id": "PkDQHOIYXtMK",
    "outputId": "063c58c2-4cca-4231-f695-568106557aef"
   },
   "outputs": [],
   "source": [
    "def gen_dataset(data, number):\n",
    "    if data == 'blobs':\n",
    "        X,yn = datasets.make_blobs(n_samples=2048, centers = 2,n_features=2, cluster_std=4)\n",
    "        plt.scatter(X[yn==1,0],X[yn==1,1],color='blue')\n",
    "        plt.scatter(X[yn==0,0],X[yn==0,1],color='red')\n",
    "    if data == 'moons':\n",
    "        X, yn = datasets.make_moons(n_samples=10)\n",
    "        plt.scatter(X[yn==1,0],X[yn==1,1],color='blue')\n",
    "        plt.scatter(X[yn==0,0],X[yn==0,1],color='red')\n",
    "    if data == 'mclass':\n",
    "        X, yn = datasets.make_classification(n_samples=500,n_informative=4,n_clusters_per_class=3,n_classes=3)\n",
    "        plt.scatter(X[yn==1,0],X[yn==1,1],color='blue')\n",
    "        plt.scatter(X[yn==0,0],X[yn==0,1],color='red')\n",
    "        plt.scatter(X[yn==2,0],X[yn==2,1],color='green')\n",
    "    if data == 'spirals':\n",
    "        X, yn = twospirals(512)\n",
    "        plt.title('training set')\n",
    "        plt.plot(X[yn==0,0], X[yn==0,1], '.', label='class 1')\n",
    "        plt.plot(X[yn==1,0], X[yn==1,1], '.', label='class 2')\n",
    "        plt.legend()\n",
    "    filename = 'data-cluster-' + number\n",
    "    plt.savefig(filename + '.png')\n",
    "\n",
    "    with open(filename + '.csv', 'w', newline='') as file:\n",
    "        writer = csv.writer(file)\n",
    "        writer.writerow([\"ID\", \"X\", \"Y\"])\n",
    "        for i in range(1024):\n",
    "            writer.writerow(['blue',  str(X[yn==1,0][i]), str(X[yn==1,1][i])])\n",
    "            \n",
    "        for i in range(1024):\n",
    "            writer.writerow(['red',  str(X[yn==0,0][i]), str(X[yn==0,1][i])])\n",
    "    return X, yn"
   ]
  },
  {
   "cell_type": "code",
   "execution_count": 7,
   "metadata": {},
   "outputs": [],
   "source": [
    "def setup(X, yn):\n",
    "    X_train, X_test, y_train, y_test = train_test_split(X, yn, test_size=0.5)\n",
    "    # choose batch size here\n",
    "    bs = 128\n",
    "\n",
    "    X_train = torch.Tensor(X_train).to(device)\n",
    "    y_train = torch.LongTensor(y_train).to(device)\n",
    "    X_test = torch.Tensor(X_test).to(device)\n",
    "    y_test = torch.LongTensor(y_test).to(device)\n",
    "\n",
    "    train = data_utils.TensorDataset(X_train,y_train)\n",
    "    trainloader = data_utils.DataLoader(train, batch_size=bs, shuffle=True)\n",
    "\n",
    "    test = data_utils.TensorDataset(X_test,y_test)\n",
    "    testloader = data_utils.DataLoader(test, batch_size=bs, shuffle=True)\n",
    "    return trainloader, testloader"
   ]
  },
  {
   "cell_type": "markdown",
   "metadata": {
    "colab_type": "text",
    "id": "Q8Rc7LgRXtMb"
   },
   "source": [
    "# Neural Network definition"
   ]
  },
  {
   "cell_type": "code",
   "execution_count": 8,
   "metadata": {
    "colab": {
     "base_uri": "https://localhost:8080/",
     "height": 68
    },
    "colab_type": "code",
    "id": "kxs4NyUiXtMb",
    "outputId": "504b607d-4b1a-445c-c2dd-cf8242398511"
   },
   "outputs": [],
   "source": [
    "class MLP(nn.Module):\n",
    "    def __init__(self, dense_layers, softmax = True):\n",
    "        '''\n",
    "        Simple dense MLP class used as predictor\n",
    "        \n",
    "        :smax_l: leave True for softmax applied to ouput\n",
    "        '''\n",
    "        super().__init__()\n",
    "        self.dense_layers = nn.ModuleList([nn.Linear(dense_layers[i], dense_layers[i + 1]) \\\n",
    "                                           for i in range(len(dense_layers) - 1)])\n",
    "        self.softmax = softmax\n",
    "        \n",
    "    def getLength(self):\n",
    "        return len(self.dense_layers)\n",
    "\n",
    "    def forward(self, x):\n",
    "        x = x.view(x.size(0), -1)\n",
    "        for l in self.dense_layers:\n",
    "            l_x = l(x)\n",
    "            x = F.relu(l_x)\n",
    "        if not self.softmax: return l_x\n",
    "        else: return F.log_softmax(l_x, dim=-1)"
   ]
  },
  {
   "cell_type": "code",
   "execution_count": 9,
   "metadata": {},
   "outputs": [],
   "source": [
    "def count_parameters(model):\n",
    "    return \"Total parameters \" + str(sum(p.numel() for p in model.parameters() if p.requires_grad))"
   ]
  },
  {
   "cell_type": "code",
   "execution_count": 10,
   "metadata": {
    "colab": {
     "base_uri": "https://localhost:8080/",
     "height": 68
    },
    "colab_type": "code",
    "id": "Y-mVkyh7bM_1",
    "outputId": "4d27c1e7-ce9f-4684-b654-29ffbdd6a0f6"
   },
   "outputs": [],
   "source": [
    "# util to generate F matrix\n",
    "def generateFS(size, UL, UR, LL, LR):\n",
    "  n = size//2\n",
    "  ul = UL*torch.eye(n)\n",
    "  ur = UR*torch.eye(n) \n",
    "  ll = LL*torch.eye(n)\n",
    "  lr = LR*torch.eye(n)\n",
    "  top = torch.cat((ul, ur),1)\n",
    "  bottom = torch.cat((ll, lr),1)\n",
    "  return torch.cat((top, bottom), 0)"
   ]
  },
  {
   "cell_type": "markdown",
   "metadata": {},
   "source": [
    "## Experiment definition"
   ]
  },
  {
   "cell_type": "code",
   "execution_count": 44,
   "metadata": {
    "colab": {
     "base_uri": "https://localhost:8080/",
     "height": 102
    },
    "colab_type": "code",
    "id": "fj8tgJ2nXtMw",
    "outputId": "758b18a1-6695-4910-f4c5-4233a03288f9"
   },
   "outputs": [
    {
     "name": "stdout",
     "output_type": "stream",
     "text": [
      "･ RAM:  △Consumed    △Peaked    Used Total | Exec time 0:00:00.002\n",
      "･ CPU:          0          0      1,808 MB |\n",
      "･ GPU:          0          0      2,302 MB |\n"
     ]
    }
   ],
   "source": [
    "#torchSODE SGD-like\n",
    "def torchsodeT1(trainloader, m1):\n",
    "    Fm = torch.eye(1).to(device)\n",
    "    criterion = F.nll_loss\n",
    "    optimizer = torch.optim.SGD(m1.parameters(), lr=0.01, momentum=0.9)\n",
    "    epochs = 100\n",
    "    dt = 0.001 \n",
    "    ode_steps = 1\n",
    "    # timer for updating loop only\n",
    "    end_updating_timer1 = 0\n",
    "\n",
    "    training_timer1 = time.process_time()\n",
    "    for e in range(epochs):\n",
    "        dataiter = iter(trainloader)\n",
    "\n",
    "        for i, d in enumerate(dataiter):\n",
    "            x, y = next(dataiter)\n",
    "            x, y = x.cuda(), y.cuda()\n",
    "            for j in range(ode_steps):\n",
    "                loss = criterion(m1(x), y)\n",
    "                loss.backward()\n",
    "                updating_timer1 = time.process_time()\n",
    "                with torch.no_grad():\n",
    "                    for p in m1.parameters():\n",
    "                        torchSODE.solve(-Fm, p.view(-1), p.grad.view(-1), dt, 1, 'Euler', 1e-8, 1e-8)\n",
    "                end_updating_timer1 += time.process_time() - updating_timer1\n",
    "            m1.zero_grad()\n",
    "\n",
    "    end_training1 = time.process_time() - training_timer1\n",
    "    print(f\"Entire training process took {round(end_training1, 4)} (s)\")\n",
    "    print(f\"Updating the parameters took {round(end_updating_timer1, 4)} (s)\")\n",
    "    return end_training1, end_updating_timer1"
   ]
  },
  {
   "cell_type": "code",
   "execution_count": 43,
   "metadata": {
    "colab": {
     "base_uri": "https://localhost:8080/",
     "height": 102
    },
    "colab_type": "code",
    "id": "EpXSAao9YIu3",
    "outputId": "bf0f8185-3d1a-47e4-b467-341a32f5973d"
   },
   "outputs": [
    {
     "name": "stdout",
     "output_type": "stream",
     "text": [
      "･ RAM:  △Consumed    △Peaked    Used Total | Exec time 0:00:00.002\n",
      "･ CPU:          0          0      1,808 MB |\n",
      "･ GPU:          0          0      2,302 MB |\n"
     ]
    }
   ],
   "source": [
    "# torchSODE with less params (for torchdiffeq)\n",
    "def torchsodeT2(trainloader, m1_small):\n",
    "    Fm = torch.eye(1).to(device)\n",
    "    criterion = F.nll_loss\n",
    "    optimizer = torch.optim.SGD(m1.parameters(), lr=0.01, momentum=0.9)\n",
    "    epochs = 100\n",
    "    dt = 0.01 \n",
    "    ode_steps = 1\n",
    "    # timer for updating loop only\n",
    "    end_updating_timer1 = 0\n",
    "\n",
    "    training_timer1 = time.process_time()\n",
    "    for e in range(epochs):\n",
    "        dataiter = iter(trainloader)\n",
    "\n",
    "        for i, d in enumerate(dataiter):\n",
    "            x, y = next(dataiter)\n",
    "            x, y = x.cuda(), y.cuda()\n",
    "            for j in range(ode_steps):\n",
    "                loss = criterion(m1_small(x), y)\n",
    "                loss.backward()\n",
    "                updating_timer1 = time.process_time()\n",
    "                with torch.no_grad():\n",
    "                    for p in m1_small.parameters():\n",
    "                        torchSODE.solve(-Fm, p.view(-1), p.grad.view(-1), dt, 1, 'Euler', 1e-8, 1e-8)\n",
    "                end_updating_timer1 += time.process_time() - updating_timer1\n",
    "            m1_small.zero_grad()\n",
    "\n",
    "    end_training1 = time.process_time() - training_timer1\n",
    "    print(f\"Entire training process took {round(end_training1, 4)} (s)\")\n",
    "    print(f\"Updating the parameters took {round(end_updating_timer1, 4)} (s)\")\n",
    "    return end_training1, end_updating_timer1"
   ]
  },
  {
   "cell_type": "code",
   "execution_count": 42,
   "metadata": {
    "colab": {
     "base_uri": "https://localhost:8080/",
     "height": 102
    },
    "colab_type": "code",
    "id": "9_OOxKGQZDit",
    "outputId": "228a9ef9-c741-4572-c9d3-3af329746eda"
   },
   "outputs": [
    {
     "name": "stdout",
     "output_type": "stream",
     "text": [
      "･ RAM:  △Consumed    △Peaked    Used Total | Exec time 0:00:00.002\n",
      "･ CPU:          0          0      1,808 MB |\n",
      "･ GPU:          0          0      2,302 MB |\n"
     ]
    }
   ],
   "source": [
    "#torch.optim SGD and SGD with momentum \n",
    "def torchoptim(trainloader, m2):\n",
    "    m2 = MLP([2, 10000, 10000, 1000, 1000, 2]).to(device)\n",
    "    criterion = F.nll_loss\n",
    "    optimizer = torch.optim.SGD(m2.parameters(), lr=0.01, momentum=0.9)\n",
    "    epochs = 100\n",
    "    dt = 0.01 \n",
    "    ode_steps = 1\n",
    "    # timer for updating loop only\n",
    "    end_updating_timer2 = 0\n",
    "\n",
    "    training_timer2 = time.process_time()\n",
    "    for e in range(epochs):\n",
    "        dataiter = iter(trainloader)\n",
    "\n",
    "        for i, d in enumerate(dataiter):\n",
    "            x, y = next(dataiter)\n",
    "            x, y = x.cuda(), y.cuda()\n",
    "            loss = criterion(m2(x), y)\n",
    "            loss.backward()\n",
    "            updating_timer2 = time.process_time()\n",
    "            optimizer.step() \n",
    "            end_updating_timer2 += time.process_time() - updating_timer2\n",
    "            optimizer.zero_grad()\n",
    "\n",
    "    end_training2 = time.process_time() - training_timer2\n",
    "    print(f\"Entire training process took {round(end_training2, 4)} (s)\")\n",
    "    print(f\"Updating the parameters took {round(end_updating_timer2, 4)} (s)\")\n",
    "    return end_training2, end_updating_timer2"
   ]
  },
  {
   "cell_type": "code",
   "execution_count": 14,
   "metadata": {
    "colab": {
     "base_uri": "https://localhost:8080/",
     "height": 68
    },
    "colab_type": "code",
    "id": "-cB_vq0Mf9zz",
    "outputId": "5fca376f-e093-4961-b76b-90f849c1afb9"
   },
   "outputs": [],
   "source": [
    "# model class for torchdiffeq\n",
    "\n",
    "class SparseBlockModel(object):\n",
    "    def __init__(self, F, numpy=True):\n",
    "        if numpy: F = F.numpy()\n",
    "        self.F = F[0][0]\n",
    "    def __call__(self, dt, x, grad=None):\n",
    "        dxdt = self.F * grad * x\n",
    "        return dxdt"
   ]
  },
  {
   "cell_type": "code",
   "execution_count": 41,
   "metadata": {
    "colab": {
     "base_uri": "https://localhost:8080/",
     "height": 102
    },
    "colab_type": "code",
    "id": "MS4sET0BZDr4",
    "outputId": "705670c2-e8ca-4e2f-8edf-48a515263ff5"
   },
   "outputs": [
    {
     "name": "stdout",
     "output_type": "stream",
     "text": [
      "･ RAM:  △Consumed    △Peaked    Used Total | Exec time 0:00:00.003\n",
      "･ CPU:          0          0      1,808 MB |\n",
      "･ GPU:          0          0      2,303 MB |\n"
     ]
    }
   ],
   "source": [
    "#torchdiff SGD-like\n",
    "def torchdiff(trainloader, m3):\n",
    "    Fm = torch.eye(1).to(device)\n",
    "    model = SparseBlockModel(Fm, False)\n",
    "    criterion = F.nll_loss\n",
    "    optimizer = torch.optim.SGD(m3.parameters(), lr=0.01, momentum=0.9)\n",
    "    epochs = 100\n",
    "    t = torch.linspace(0, 0.01)\n",
    "    ode_steps = 1\n",
    "\n",
    "    # timer for updating loop only\n",
    "    end_updating_timer3 = 0\n",
    "\n",
    "    training_timer3 = time.process_time()\n",
    "    for e in range(epochs):\n",
    "        dataiter = iter(trainloader)\n",
    "\n",
    "        for i, d in enumerate(dataiter):\n",
    "            x, y = next(dataiter)\n",
    "            x, y = x.cuda(), y.cuda()\n",
    "            for j in range(ode_steps):\n",
    "                loss = criterion(m3(x), y)\n",
    "                loss.backward()\n",
    "                updating_timer3 = time.process_time()\n",
    "                with torch.no_grad():\n",
    "                    for p in m3.parameters():\n",
    "                        p = torchdiffeq.odeint(partial(model, grad=p.grad.view(-1)), p.view(-1), t, method='euler')\n",
    "                end_updating_timer3 += time.process_time() - updating_timer3\n",
    "            m3.zero_grad()\n",
    "\n",
    "    end_training3 = time.process_time() - training_timer3\n",
    "    print(f\"Entire training process took {round(end_training3, 4)} (s)\")\n",
    "    print(f\"Updating the parameters took {round(end_updating_timer3, 4)} (s)\")\n",
    "    return end_training3, end_updating_timer3"
   ]
  },
  {
   "cell_type": "markdown",
   "metadata": {},
   "source": [
    "# Boundary definition"
   ]
  },
  {
   "cell_type": "code",
   "execution_count": 16,
   "metadata": {
    "colab": {
     "base_uri": "https://localhost:8080/",
     "height": 68
    },
    "colab_type": "code",
    "id": "DXHrE7mKXtNa",
    "outputId": "92c0dc8f-dba7-4eb3-d0de-ec99d1a40080"
   },
   "outputs": [],
   "source": [
    "def genpoints(xmin,xmax,ymin,ymax,number_points):\n",
    "    xx = torch.linspace(xmin,xmax,number_points)\n",
    "    yy = torch.linspace(ymin,ymax,number_points)\n",
    "    c = 1\n",
    "    P = []\n",
    "    for i in range(number_points):\n",
    "        for j in range(number_points):\n",
    "            P.append([xx[i],yy[j]])\n",
    "    return torch.Tensor(P).cuda()"
   ]
  },
  {
   "cell_type": "code",
   "execution_count": 17,
   "metadata": {
    "colab": {
     "base_uri": "https://localhost:8080/",
     "height": 337
    },
    "colab_type": "code",
    "id": "Dg3ndqWCXtNt",
    "outputId": "94d4fcd5-8b7b-4db4-9936-7155fc9ef4de"
   },
   "outputs": [],
   "source": [
    "def gen_boundary(X, yn, m1, number):\n",
    "    mp = genpoints(-20,25,-20,25,100)\n",
    "    y, idx = torch.max(torch.exp(m1.forward(mp)), 1)\n",
    "    mp_r = mp[idx==0]\n",
    "    mp_b = mp[idx==1]\n",
    "    plt.figure(figsize=(4.5,4))\n",
    "    plt.scatter(mp_r[:,0].cpu(),mp_r[:,1].cpu(),color='orange')\n",
    "    plt.scatter(mp_b[:,0].cpu(),mp_b[:,1].cpu(),color='cyan')\n",
    "    plt.scatter(X[yn==1,0],X[yn==1,1],color='blue')\n",
    "    plt.scatter(X[yn==0,0],X[yn==0,1],color='red')\n",
    "    plt.savefig('data-cluster-boundary-' + number + '.png')\n",
    "    plt.show()"
   ]
  },
  {
   "cell_type": "markdown",
   "metadata": {},
   "source": [
    "# Plot definition"
   ]
  },
  {
   "cell_type": "code",
   "execution_count": 3,
   "metadata": {
    "colab": {
     "base_uri": "https://localhost:8080/",
     "height": 349
    },
    "colab_type": "code",
    "id": "5SqYQ_eoQks6",
    "outputId": "8dc03b24-8acd-4c1b-c673-02edc5d5ffc3"
   },
   "outputs": [],
   "source": [
    "def trainingchart(torchdiag_tot, torchdiag_tr, number):\n",
    "    torchdiag_diff = torchdiag_tot - torchdiag_tr\n",
    "    width = 0.45\n",
    "    y_pos = np.arange(3)\n",
    "    plt.bar(y_pos, torchdiag_diff, width, color='blue')\n",
    "    plt.bar(y_pos, torchdiag_tr, width, bottom=torchdiag_diff, color='green')\n",
    "    plt.legend(['Other', 'Update'])\n",
    "    ax = plt.gca()\n",
    "    ax.set_xticklabels(['', 'torchdiffeq-3', '', 'torchSODE-3', '', 'torchSODE-100'])\n",
    "    plt.ylabel('time / 100 epochs')\n",
    "    # plt.yscale('log')\n",
    "    plt.title('Training (diagonal - SGD)')\n",
    "    plt.savefig('trainingchart-' + number + '.png')\n",
    "    plt.show()"
   ]
  },
  {
   "cell_type": "code",
   "execution_count": 4,
   "metadata": {
    "colab": {
     "base_uri": "https://localhost:8080/",
     "height": 434
    },
    "colab_type": "code",
    "id": "mZAGemRlcggw",
    "outputId": "521f9cd4-1084-46bb-d0ad-34225b239bae"
   },
   "outputs": [],
   "source": [
    "def torch_mem(memory, number):\n",
    "    width = 0.45\n",
    "    y_pos = np.arange(3)\n",
    "    plt.bar(y_pos, memory, width, color='orange')\n",
    "    plt.title('GPU memory used for training (MB)')\n",
    "    ax = plt.gca()\n",
    "    ax.set_xticklabels(['', 'torchdiffeq-3', '', 'torchSODE-3', '', 'torchSODE-100'])\n",
    "    plt.savefig('torchmem-' + number + '.png')\n",
    "    plt.show()"
   ]
  },
  {
   "cell_type": "markdown",
   "metadata": {
    "colab_type": "text",
    "id": "AjuWJW6hXtMg"
   },
   "source": [
    "# Training"
   ]
  },
  {
   "cell_type": "markdown",
   "metadata": {},
   "source": [
    "# Experiment 1"
   ]
  },
  {
   "cell_type": "code",
   "execution_count": 21,
   "metadata": {
    "colab": {
     "base_uri": "https://localhost:8080/",
     "height": 578
    },
    "colab_type": "code",
    "id": "T0lm6tQgXtMh",
    "outputId": "bab2ec07-6d42-4b55-85fe-f48f9173e813"
   },
   "outputs": [
    {
     "name": "stdout",
     "output_type": "stream",
     "text": [
      "\n",
      "*** Experiment started with the Pytorch backend\n",
      "Device: ID 0, TITAN RTX (24217 RAM)\n",
      "\n",
      "\n",
      "*** Current state:\n",
      "RAM:    Used    Free   Total       Util\n",
      "CPU:   1,564  13,033  15,953 MB   9.80% \n",
      "GPU:   1,258  22,958  24,217 MB   5.20% \n",
      "\n",
      "\n",
      "･ RAM:  △Consumed    △Peaked    Used Total | Exec time 0:00:00.000\n",
      "･ CPU:          0          0      1,565 MB |\n",
      "･ GPU:          0          0      1,258 MB |\n"
     ]
    }
   ],
   "source": [
    "exp1 = ipyexperiments.IPyExperimentsPytorch()"
   ]
  },
  {
   "cell_type": "code",
   "execution_count": 24,
   "metadata": {},
   "outputs": [
    {
     "data": {
      "image/png": "[encoded data removed]",
      "text/plain": [
       "<Figure size 432x288 with 1 Axes>"
      ]
     },
     "metadata": {
      "needs_background": "light"
     },
     "output_type": "display_data"
    },
    {
     "name": "stdout",
     "output_type": "stream",
     "text": [
      "･ RAM:  △Consumed    △Peaked    Used Total | Exec time 0:00:00.259\n",
      "･ CPU:          0          0      1,794 MB |\n",
      "･ GPU:          0          0      2,282 MB |\n"
     ]
    }
   ],
   "source": [
    "X, yn = gen_dataset('blobs', '0')"
   ]
  },
  {
   "cell_type": "markdown",
   "metadata": {},
   "source": [
    "## torchSODE"
   ]
  },
  {
   "cell_type": "code",
   "execution_count": 46,
   "metadata": {},
   "outputs": [
    {
     "name": "stdout",
     "output_type": "stream",
     "text": [
      "Entire training process took 6.4971 (s)\n",
      "Updating the parameters took 5.5074 (s)\n",
      "･ RAM:  △Consumed    △Peaked    Used Total | Exec time 0:00:06.897\n",
      "･ CPU:          0          0      1,808 MB |\n",
      "･ GPU:          0        424      2,302 MB |\n"
     ]
    }
   ],
   "source": [
    "m1 = MLP([2, 10000, 10000, 1000, 1000, 2]).to(device)\n",
    "count_parameters(m1)\n",
    "trainloader, _ = setup(X, yn)\n",
    "t_train1, t_update1 = torchsodeT1(trainloader, m1)"
   ]
  },
  {
   "cell_type": "markdown",
   "metadata": {},
   "source": [
    "## torchSODE with less params (for torchdiffeq)"
   ]
  },
  {
   "cell_type": "code",
   "execution_count": 47,
   "metadata": {},
   "outputs": [
    {
     "name": "stdout",
     "output_type": "stream",
     "text": [
      "Entire training process took 1.4762 (s)\n",
      "Updating the parameters took 0.5136 (s)\n",
      "･ RAM:  △Consumed    △Peaked    Used Total | Exec time 0:00:01.399\n",
      "･ CPU:          0          0      1,816 MB |\n",
      "･ GPU:        -20          4      2,282 MB |\n"
     ]
    }
   ],
   "source": [
    "m1_small = MLP([2, 1000, 1000, 1000, 1000, 2]).to(device)\n",
    "count_parameters(m1_small)\n",
    "trainloader, _ = setup(X, yn)\n",
    "t_train2, t_update2 = torchsodeT2(trainloader, m1_small)"
   ]
  },
  {
   "cell_type": "markdown",
   "metadata": {},
   "source": [
    "## torchdiffeq with small model"
   ]
  },
  {
   "cell_type": "code",
   "execution_count": 49,
   "metadata": {},
   "outputs": [
    {
     "name": "stdout",
     "output_type": "stream",
     "text": [
      "Entire training process took 62.4137 (s)\n",
      "Updating the parameters took 61.438 (s)\n",
      "･ RAM:  △Consumed    △Peaked    Used Total | Exec time 0:01:00.815\n",
      "･ CPU:          0          0      1,816 MB |\n",
      "･ GPU:          0        786      2,283 MB |\n"
     ]
    }
   ],
   "source": [
    "count_parameters(m1_small)\n",
    "trainloader, _ = setup(X, yn)\n",
    "t_train4, t_update4 = torchdiff(trainloader, m1_small)"
   ]
  },
  {
   "cell_type": "markdown",
   "metadata": {
    "colab_type": "text",
    "id": "35banHMIXtNY"
   },
   "source": [
    "# Boundary plot"
   ]
  },
  {
   "cell_type": "code",
   "execution_count": 50,
   "metadata": {
    "colab": {
     "base_uri": "https://localhost:8080/",
     "height": 68
    },
    "colab_type": "code",
    "id": "7ZKRIY1UXtNh",
    "outputId": "5a88ed73-bc72-49b8-b548-3ba0dc1c95c3"
   },
   "outputs": [
    {
     "data": {
      "image/png": "[encoded data removed]",
      "text/plain": [
       "<Figure size 324x288 with 1 Axes>"
      ]
     },
     "metadata": {
      "needs_background": "light"
     },
     "output_type": "display_data"
    },
    {
     "name": "stdout",
     "output_type": "stream",
     "text": [
      "･ RAM:  △Consumed    △Peaked    Used Total | Exec time 0:00:00.547\n",
      "･ CPU:          0          2      1,816 MB |\n",
      "･ GPU:          0      1,688      2,283 MB |\n"
     ]
    }
   ],
   "source": [
    "gen_boundary(X, yn, m1, '0')"
   ]
  },
  {
   "cell_type": "markdown",
   "metadata": {
    "colab_type": "text",
    "id": "kFB9p-lnncMP"
   },
   "source": [
    "# Plots"
   ]
  },
  {
   "cell_type": "code",
   "execution_count": 6,
   "metadata": {
    "colab": {
     "base_uri": "https://localhost:8080/",
     "height": 68
    },
    "colab_type": "code",
    "id": "bfWs19nZIl0j",
    "outputId": "5bb1254a-1a3c-4a95-aeb7-d37098cd366f"
   },
   "outputs": [
    {
     "name": "stdout",
     "output_type": "stream",
     "text": [
      "[62.4137  1.4762  6.4971]\n",
      "[61.438   0.5136  5.5074]\n"
     ]
    },
    {
     "data": {
      "image/png": "[encoded data removed]",
      "text/plain": [
       "<Figure size 432x288 with 1 Axes>"
      ]
     },
     "metadata": {
      "needs_background": "light"
     },
     "output_type": "display_data"
    }
   ],
   "source": [
    "torchdiag_tot = np.array([62.4137, 1.4762, 6.4971])\n",
    "torchdiag_tr = np.array([61.438, 0.5136, 5.5074])\n",
    "print(torchdiag_tot)\n",
    "print(torchdiag_tr)\n",
    "trainingchart(torchdiag_tot, torchdiag_tr, '0')"
   ]
  },
  {
   "cell_type": "code",
   "execution_count": 9,
   "metadata": {
    "colab": {
     "base_uri": "https://localhost:8080/",
     "height": 68
    },
    "colab_type": "code",
    "id": "qVJTaSf3csfA",
    "outputId": "eef3685b-d185-4fb2-a024-ef1a90181548"
   },
   "outputs": [
    {
     "name": "stdout",
     "output_type": "stream",
     "text": [
      "[786  24 424]\n"
     ]
    },
    {
     "data": {
      "image/png": "[encoded data removed]",
      "text/plain": [
       "<Figure size 432x288 with 1 Axes>"
      ]
     },
     "metadata": {
      "needs_background": "light"
     },
     "output_type": "display_data"
    }
   ],
   "source": [
    "memory = np.array([786, 24, 424])\n",
    "print(memory)\n",
    "torch_mem(memory, '0')"
   ]
  },
  {
   "cell_type": "code",
   "execution_count": 58,
   "metadata": {
    "colab": {},
    "colab_type": "code",
    "id": "p2n53VAEXtM4"
   },
   "outputs": [
    {
     "name": "stdout",
     "output_type": "stream",
     "text": [
      "･ RAM:  △Consumed    △Peaked    Used Total | Exec time 0:00:00.001\n",
      "･ CPU:          0          0      1,816 MB |\n",
      "･ GPU:          0          0      2,283 MB |\n",
      "\n",
      "IPyExperimentsPytorch: Finishing\n",
      "\n",
      "*** Experiment finished in 00:19:06 (elapsed wallclock time)\n",
      "\n",
      "*** Newly defined local variables:\n",
      "Deleted: X, m1, m1_small, memory, t_train1, t_train2, t_train3, t_train4, t_update1, t_update2, t_update3, t_update4, torch_tot_sk, torch_tr_sk, torchdiag_tot, torchdiag_tr, trainloader, yn\n",
      "\n",
      "*** Experiment memory:\n",
      "RAM: Consumed       Reclaimed\n",
      "CPU:      252        0 MB (  0.00%)\n",
      "GPU:    1,024      884 MB ( 86.31%)\n",
      "\n",
      "*** Current state:\n",
      "RAM:    Used    Free   Total       Util\n",
      "CPU:   1,816  12,812  15,953 MB  11.39% \n",
      "GPU:   1,399  22,818  24,217 MB   5.78% \n",
      "\n",
      "\n"
     ]
    }
   ],
   "source": [
    "del exp1"
   ]
  }
 ],
 "metadata": {
  "accelerator": "GPU",
  "colab": {
   "collapsed_sections": [],
   "name": "Benchmarks_NN_training.ipynb",
   "provenance": [],
   "version": "0.3.2"
  },
  "kernelspec": {
   "display_name": "Python 3",
   "language": "python",
   "name": "python3"
  },
  "language_info": {
   "codemirror_mode": {
    "name": "ipython",
    "version": 3
   },
   "file_extension": ".py",
   "mimetype": "text/x-python",
   "name": "python",
   "nbconvert_exporter": "python",
   "pygments_lexer": "ipython3",
   "version": "3.6.9"
  }
 },
 "nbformat": 4,
 "nbformat_minor": 1
}
