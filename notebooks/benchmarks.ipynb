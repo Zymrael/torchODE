{
  "nbformat": 4,
  "nbformat_minor": 0,
  "metadata": {
    "colab": {
      "name": "Benchmarks.ipynb",
      "version": "0.3.2",
      "provenance": [],
      "collapsed_sections": []
    },
    "language_info": {
      "codemirror_mode": {
        "name": "ipython",
        "version": 3
      },
      "file_extension": ".py",
      "mimetype": "text/x-python",
      "name": "python",
      "nbconvert_exporter": "python",
      "pygments_lexer": "ipython3",
      "version": "3.7.3"
    },
    "kernelspec": {
      "name": "python3",
      "display_name": "Python 3"
    },
    "accelerator": "GPU"
  },
  "cells": [
    {
      "cell_type": "code",
      "metadata": {
        "id": "t2aAzEij0PY9",
        "colab_type": "code",
        "colab": {
          "base_uri": "https://localhost:8080/",
          "height": 34
        },
        "outputId": "9ec27613-60e9-43dc-ed46-d5d9a50c0448"
      },
      "source": [
        "!git clone https://github.com/Zymrael/torchSODE.git"
      ],
      "execution_count": 1,
      "outputs": [
        {
          "output_type": "stream",
          "text": [
            "fatal: destination path 'torchSODE' already exists and is not an empty directory.\n"
          ],
          "name": "stdout"
        }
      ]
    },
    {
      "cell_type": "code",
      "metadata": {
        "id": "b9VmCe8e0RnW",
        "colab_type": "code",
        "colab": {
          "base_uri": "https://localhost:8080/",
          "height": 905
        },
        "outputId": "0510dd81-ab3d-408d-ba1c-217fff86fe8a"
      },
      "source": [
        "!cd torchSODE/ && git pull && git checkout new_branch\n",
        "!cd ./torchSODE/src/ && python3 setup.py install"
      ],
      "execution_count": 2,
      "outputs": [
        {
          "output_type": "stream",
          "text": [
            "remote: Enumerating objects: 8, done.\u001b[K\n",
            "remote: Counting objects:  12% (1/8)   \u001b[K\rremote: Counting objects:  25% (2/8)   \u001b[K\rremote: Counting objects:  37% (3/8)   \u001b[K\rremote: Counting objects:  50% (4/8)   \u001b[K\rremote: Counting objects:  62% (5/8)   \u001b[K\rremote: Counting objects:  75% (6/8)   \u001b[K\rremote: Counting objects:  87% (7/8)   \u001b[K\rremote: Counting objects: 100% (8/8)   \u001b[K\rremote: Counting objects: 100% (8/8), done.\u001b[K\n",
            "remote: Compressing objects:  12% (1/8)   \u001b[K\rremote: Compressing objects:  25% (2/8)   \u001b[K\rremote: Compressing objects:  37% (3/8)   \u001b[K\rremote: Compressing objects:  50% (4/8)   \u001b[K\rremote: Compressing objects:  62% (5/8)   \u001b[K\rremote: Compressing objects:  75% (6/8)   \u001b[K\rremote: Compressing objects:  87% (7/8)   \u001b[K\rremote: Compressing objects: 100% (8/8)   \u001b[K\rremote: Compressing objects: 100% (8/8), done.\u001b[K\n",
            "remote: Total 8 (delta 3), reused 2 (delta 0), pack-reused 0\u001b[K\n",
            "Unpacking objects:  12% (1/8)   \rUnpacking objects:  25% (2/8)   \rUnpacking objects:  37% (3/8)   \rUnpacking objects:  50% (4/8)   \rUnpacking objects:  62% (5/8)   \rUnpacking objects:  75% (6/8)   \rUnpacking objects:  87% (7/8)   \rUnpacking objects: 100% (8/8)   \rUnpacking objects: 100% (8/8), done.\n",
            "From https://github.com/Zymrael/torchSODE\n",
            "   13c78c8..80af060  new_branch -> origin/new_branch\n",
            "Updating 13c78c8..80af060\n",
            "Fast-forward\n",
            " src/solver.cu | 2 \u001b[32m+\u001b[m\u001b[31m-\u001b[m\n",
            " 1 file changed, 1 insertion(+), 1 deletion(-)\n",
            "Already on 'new_branch'\n",
            "Your branch is up to date with 'origin/new_branch'.\n",
            "running install\n",
            "running bdist_egg\n",
            "running egg_info\n",
            "writing torchSODE.egg-info/PKG-INFO\n",
            "writing dependency_links to torchSODE.egg-info/dependency_links.txt\n",
            "writing top-level names to torchSODE.egg-info/top_level.txt\n",
            "writing manifest file 'torchSODE.egg-info/SOURCES.txt'\n",
            "installing library code to build/bdist.linux-x86_64/egg\n",
            "running install_lib\n",
            "running build_ext\n",
            "building 'torchSODE' extension\n",
            "x86_64-linux-gnu-gcc -pthread -DNDEBUG -g -fwrapv -O2 -Wall -g -fstack-protector-strong -Wformat -Werror=format-security -Wdate-time -D_FORTIFY_SOURCE=2 -fPIC -I/usr/local/lib/python3.6/dist-packages/torch/include -I/usr/local/lib/python3.6/dist-packages/torch/include/torch/csrc/api/include -I/usr/local/lib/python3.6/dist-packages/torch/include/TH -I/usr/local/lib/python3.6/dist-packages/torch/include/THC -I/usr/local/cuda/include -I/usr/include/python3.6m -c solver_interface.cpp -o build/temp.linux-x86_64-3.6/solver_interface.o -DTORCH_API_INCLUDE_EXTENSION_H -DTORCH_EXTENSION_NAME=torchSODE -D_GLIBCXX_USE_CXX11_ABI=0 -std=c++11\n",
            "/usr/local/cuda/bin/nvcc -I/usr/local/lib/python3.6/dist-packages/torch/include -I/usr/local/lib/python3.6/dist-packages/torch/include/torch/csrc/api/include -I/usr/local/lib/python3.6/dist-packages/torch/include/TH -I/usr/local/lib/python3.6/dist-packages/torch/include/THC -I/usr/local/cuda/include -I/usr/include/python3.6m -c solver.cu -o build/temp.linux-x86_64-3.6/solver.o -D__CUDA_NO_HALF_OPERATORS__ -D__CUDA_NO_HALF_CONVERSIONS__ -D__CUDA_NO_HALF2_OPERATORS__ --compiler-options '-fPIC' -DTORCH_API_INCLUDE_EXTENSION_H -DTORCH_EXTENSION_NAME=torchSODE -D_GLIBCXX_USE_CXX11_ABI=0 -std=c++11\n",
            "x86_64-linux-gnu-g++ -pthread -shared -Wl,-O1 -Wl,-Bsymbolic-functions -Wl,-Bsymbolic-functions -Wl,-z,relro -Wl,-Bsymbolic-functions -Wl,-z,relro -g -fstack-protector-strong -Wformat -Werror=format-security -Wdate-time -D_FORTIFY_SOURCE=2 build/temp.linux-x86_64-3.6/solver_interface.o build/temp.linux-x86_64-3.6/solver.o -L/usr/local/cuda/lib64 -lcudart -o build/lib.linux-x86_64-3.6/torchSODE.cpython-36m-x86_64-linux-gnu.so\n",
            "creating build/bdist.linux-x86_64/egg\n",
            "copying build/lib.linux-x86_64-3.6/torchSODE.cpython-36m-x86_64-linux-gnu.so -> build/bdist.linux-x86_64/egg\n",
            "creating stub loader for torchSODE.cpython-36m-x86_64-linux-gnu.so\n",
            "byte-compiling build/bdist.linux-x86_64/egg/torchSODE.py to torchSODE.cpython-36.pyc\n",
            "creating build/bdist.linux-x86_64/egg/EGG-INFO\n",
            "copying torchSODE.egg-info/PKG-INFO -> build/bdist.linux-x86_64/egg/EGG-INFO\n",
            "copying torchSODE.egg-info/SOURCES.txt -> build/bdist.linux-x86_64/egg/EGG-INFO\n",
            "copying torchSODE.egg-info/dependency_links.txt -> build/bdist.linux-x86_64/egg/EGG-INFO\n",
            "copying torchSODE.egg-info/top_level.txt -> build/bdist.linux-x86_64/egg/EGG-INFO\n",
            "writing build/bdist.linux-x86_64/egg/EGG-INFO/native_libs.txt\n",
            "zip_safe flag not set; analyzing archive contents...\n",
            "__pycache__.torchSODE.cpython-36: module references __file__\n",
            "creating 'dist/torchSODE-0.0.0-py3.6-linux-x86_64.egg' and adding 'build/bdist.linux-x86_64/egg' to it\n",
            "removing 'build/bdist.linux-x86_64/egg' (and everything under it)\n",
            "Processing torchSODE-0.0.0-py3.6-linux-x86_64.egg\n",
            "removing '/usr/local/lib/python3.6/dist-packages/torchSODE-0.0.0-py3.6-linux-x86_64.egg' (and everything under it)\n",
            "creating /usr/local/lib/python3.6/dist-packages/torchSODE-0.0.0-py3.6-linux-x86_64.egg\n",
            "Extracting torchSODE-0.0.0-py3.6-linux-x86_64.egg to /usr/local/lib/python3.6/dist-packages\n",
            "torchSODE 0.0.0 is already the active version in easy-install.pth\n",
            "\n",
            "Installed /usr/local/lib/python3.6/dist-packages/torchSODE-0.0.0-py3.6-linux-x86_64.egg\n",
            "Processing dependencies for torchSODE==0.0.0\n",
            "Finished processing dependencies for torchSODE==0.0.0\n"
          ],
          "name": "stdout"
        }
      ]
    },
    {
      "cell_type": "code",
      "metadata": {
        "id": "qEaA6eD5Tmy0",
        "colab_type": "code",
        "colab": {
          "base_uri": "https://localhost:8080/",
          "height": 208
        },
        "outputId": "ffc6fc14-2a9d-495c-ad96-4bde8663acf0"
      },
      "source": [
        "!git clone https://github.com/rtqichen/torchdiffeq\n",
        "!cd torchdiffeq && pip install -e ."
      ],
      "execution_count": 3,
      "outputs": [
        {
          "output_type": "stream",
          "text": [
            "Cloning into 'torchdiffeq'...\n",
            "remote: Enumerating objects: 138, done.\u001b[K\n",
            "remote: Total 138 (delta 0), reused 0 (delta 0), pack-reused 138\n",
            "Receiving objects: 100% (138/138), 688.35 KiB | 1.75 MiB/s, done.\n",
            "Resolving deltas: 100% (55/55), done.\n",
            "Obtaining file:///content/torchdiffeq\n",
            "Requirement already satisfied: torch>=0.4.1 in /usr/local/lib/python3.6/dist-packages (from torchdiffeq==0.0.1) (1.1.0)\n",
            "Requirement already satisfied: numpy in /usr/local/lib/python3.6/dist-packages (from torch>=0.4.1->torchdiffeq==0.0.1) (1.16.3)\n",
            "Installing collected packages: torchdiffeq\n",
            "  Running setup.py develop for torchdiffeq\n",
            "Successfully installed torchdiffeq\n"
          ],
          "name": "stdout"
        }
      ]
    },
    {
      "cell_type": "code",
      "metadata": {
        "id": "pfdwTjvdYDM8",
        "colab_type": "code",
        "colab": {
          "base_uri": "https://localhost:8080/",
          "height": 367
        },
        "outputId": "9a3b7a01-c6c3-4199-fc52-152dbdd00982"
      },
      "source": [
        "!pip install ipyexperiments"
      ],
      "execution_count": 4,
      "outputs": [
        {
          "output_type": "stream",
          "text": [
            "Collecting ipyexperiments\n",
            "  Downloading https://files.pythonhosted.org/packages/7f/f4/390edf3862692cabc3901b6c94a708b73bd20a66a2aa294fd3a248cfb37c/ipyexperiments-0.1.16-py3-none-any.whl\n",
            "Requirement already satisfied: psutil in /usr/local/lib/python3.6/dist-packages (from ipyexperiments) (5.4.8)\n",
            "Requirement already satisfied: ipython in /usr/local/lib/python3.6/dist-packages (from ipyexperiments) (5.5.0)\n",
            "Requirement already satisfied: nvidia-ml-py3 in /usr/local/lib/python3.6/dist-packages (from ipyexperiments) (7.352.0)\n",
            "Requirement already satisfied: pickleshare in /usr/local/lib/python3.6/dist-packages (from ipython->ipyexperiments) (0.7.5)\n",
            "Requirement already satisfied: pygments in /usr/local/lib/python3.6/dist-packages (from ipython->ipyexperiments) (2.1.3)\n",
            "Requirement already satisfied: traitlets>=4.2 in /usr/local/lib/python3.6/dist-packages (from ipython->ipyexperiments) (4.3.2)\n",
            "Requirement already satisfied: pexpect; sys_platform != \"win32\" in /usr/local/lib/python3.6/dist-packages (from ipython->ipyexperiments) (4.7.0)\n",
            "Requirement already satisfied: prompt-toolkit<2.0.0,>=1.0.4 in /usr/local/lib/python3.6/dist-packages (from ipython->ipyexperiments) (1.0.16)\n",
            "Requirement already satisfied: simplegeneric>0.8 in /usr/local/lib/python3.6/dist-packages (from ipython->ipyexperiments) (0.8.1)\n",
            "Requirement already satisfied: decorator in /usr/local/lib/python3.6/dist-packages (from ipython->ipyexperiments) (4.4.0)\n",
            "Requirement already satisfied: setuptools>=18.5 in /usr/local/lib/python3.6/dist-packages (from ipython->ipyexperiments) (41.0.1)\n",
            "Requirement already satisfied: six in /usr/local/lib/python3.6/dist-packages (from traitlets>=4.2->ipython->ipyexperiments) (1.12.0)\n",
            "Requirement already satisfied: ipython-genutils in /usr/local/lib/python3.6/dist-packages (from traitlets>=4.2->ipython->ipyexperiments) (0.2.0)\n",
            "Requirement already satisfied: ptyprocess>=0.5 in /usr/local/lib/python3.6/dist-packages (from pexpect; sys_platform != \"win32\"->ipython->ipyexperiments) (0.6.0)\n",
            "Requirement already satisfied: wcwidth in /usr/local/lib/python3.6/dist-packages (from prompt-toolkit<2.0.0,>=1.0.4->ipython->ipyexperiments) (0.1.7)\n",
            "Installing collected packages: ipyexperiments\n",
            "Successfully installed ipyexperiments-0.1.16\n"
          ],
          "name": "stdout"
        }
      ]
    },
    {
      "cell_type": "code",
      "metadata": {
        "id": "GdRQrVQV0J83",
        "colab_type": "code",
        "colab": {}
      },
      "source": [
        "import torch\n",
        "import numpy as np\n",
        "import matplotlib.pyplot as plt\n",
        "import scipy.integrate\n",
        "import torchSODE\n",
        "import torchdiffeq"
      ],
      "execution_count": 0,
      "outputs": []
    },
    {
      "cell_type": "code",
      "metadata": {
        "id": "UkXPkce10J9B",
        "colab_type": "code",
        "colab": {}
      },
      "source": [
        "import ipyexperiments\n",
        "import timeit\n",
        "import time"
      ],
      "execution_count": 0,
      "outputs": []
    },
    {
      "cell_type": "code",
      "metadata": {
        "id": "AgT_I3pD0J9F",
        "colab_type": "code",
        "colab": {}
      },
      "source": [
        "torch.cuda.manual_seed_all(2)"
      ],
      "execution_count": 0,
      "outputs": []
    },
    {
      "cell_type": "markdown",
      "metadata": {
        "id": "5ACvkXAP0J9M",
        "colab_type": "text"
      },
      "source": [
        "## Defining linear ODE model\n",
        "\n",
        "Utility functions for testing purposes"
      ]
    },
    {
      "cell_type": "code",
      "metadata": {
        "id": "ZNn9NwaT0J9N",
        "colab_type": "code",
        "colab": {}
      },
      "source": [
        "class GenericModel(object):\n",
        "    def __init__(self, F, numpy=True):\n",
        "        if numpy: self.F = F.numpy()\n",
        "        else: self.F = F\n",
        "        self.numpy = numpy\n",
        "    def __call__(self, dt, x):\n",
        "        if self.numpy: return np.matmul(self.F, x)\n",
        "        else: return torch.matmul(self.F, x)"
      ],
      "execution_count": 0,
      "outputs": []
    },
    {
      "cell_type": "code",
      "metadata": {
        "id": "2OoXGkix0J9S",
        "colab_type": "code",
        "colab": {}
      },
      "source": [
        "class SparseModel(GenericModel):\n",
        "    def __init__(self, F, numpy=True):\n",
        "        super().__init__(F, numpy)\n",
        "    def __call__(self, dt, x):\n",
        "        return self.F[0][0]*x"
      ],
      "execution_count": 0,
      "outputs": []
    },
    {
      "cell_type": "code",
      "metadata": {
        "id": "EB-CnibgseEz",
        "colab_type": "code",
        "colab": {}
      },
      "source": [
        "class SparseBlockModel(object):\n",
        "    def __init__(self, F, numpy=True):\n",
        "        if numpy: F = F.numpy()\n",
        "        self.p = [F[0][0], F[0][1], F[1][0], F[1][1]]\n",
        "    def __call__(self, dt, x):\n",
        "        x[:len(x)//2] = self.p[0] * x0[:len(x)//2] + self.p[1] * x0[len(x)//2:]\n",
        "        x[len(x)//2:] = self.p[2] * x0[:len(x)//2] + self.p[3] * x0[len(x)//2:]\n",
        "        return x"
      ],
      "execution_count": 0,
      "outputs": []
    },
    {
      "cell_type": "code",
      "metadata": {
        "id": "Hjy3EoSCnB_P",
        "colab_type": "code",
        "colab": {}
      },
      "source": [
        "def generateFS(size, UL, UR, LL, LR):\n",
        "  n = size//2\n",
        "  ul = UL*torch.eye(n)\n",
        "  ur = UR*torch.eye(n) \n",
        "  ll = LL*torch.eye(n)\n",
        "  lr = LR*torch.eye(n)\n",
        "  top = torch.cat((ul, ur),1)\n",
        "  bottom = torch.cat((ll, lr),1)\n",
        "  return torch.cat((top, bottom), 0)"
      ],
      "execution_count": 0,
      "outputs": []
    },
    {
      "cell_type": "code",
      "metadata": {
        "id": "GEh8DqZK0J9W",
        "colab_type": "code",
        "colab": {}
      },
      "source": [
        "F_orig = -0.5*torch.eye(10000)\n",
        "x_orig = 20*torch.rand(100)\n",
        "m = GenericModel(F_orig)\n",
        "F_orig = generateFS(10,0,1,-1,-2)"
      ],
      "execution_count": 0,
      "outputs": []
    },
    {
      "cell_type": "markdown",
      "metadata": {
        "id": "7tg9UicX0J9d",
        "colab_type": "text"
      },
      "source": [
        "# Benchmark 0: naive Euler as iterated GEMV\n",
        "\n",
        "Sparsity is encoded in the calculation for a fair comparison"
      ]
    },
    {
      "cell_type": "code",
      "metadata": {
        "id": "Y8n-81Oj0J9f",
        "colab_type": "code",
        "colab": {}
      },
      "source": [
        "dt = 0.1\n",
        "ul, ur, ll, lr = 0, 1, -1, -2\n",
        "k = 0\n",
        "exps = [10, 100, 1000, 10000, 100000, 1000000, 10000000]\n",
        "run_avgs = []\n",
        "for exp in exps:\n",
        "  run_avgs.append(0)\n",
        "  for j in range(500):\n",
        "    x0 = 5*torch.rand(exp).cuda()\n",
        "    grad = 5*torch.rand(exp).cuda()\n",
        "    start = time.process_time()\n",
        "    for t in range(1):\n",
        "        x0[:x0.size(0)//2] = ul * x0[:x0.size(0)//2] * grad[:x0.size(0)//2] + ur * x0[x0.size(0)//2:] * grad[x0.size(0)//2:]\n",
        "        x0[x0.size(0)//2:] = ll * x0[:x0.size(0)//2] * grad[:x0.size(0)//2] + lr * x0[x0.size(0)//2:] * grad[x0.size(0)//2:]\n",
        "    elapsed_time = time.process_time() - start\n",
        "    run_avgs[k] += elapsed_time\n",
        "  run_avgs[k] = run_avgs[k]/500\n",
        "  k += 1"
      ],
      "execution_count": 0,
      "outputs": []
    },
    {
      "cell_type": "code",
      "metadata": {
        "id": "pam6RcycrhLH",
        "colab_type": "code",
        "colab": {
          "base_uri": "https://localhost:8080/",
          "height": 173
        },
        "outputId": "5aad3882-87f6-4439-c2d0-2d51cd7d652b"
      },
      "source": [
        "run_avgs"
      ],
      "execution_count": 54,
      "outputs": [
        {
          "output_type": "execute_result",
          "data": {
            "text/plain": [
              "[0.0002646752340019702,\n",
              " 0.0002561305940000693,\n",
              " 0.0002675906779993511,\n",
              " 0.00027387985999894227,\n",
              " 0.0002945962260055239,\n",
              " 0.000341112876001489,\n",
              " 0.0005292007359992113]"
            ]
          },
          "metadata": {
            "tags": []
          },
          "execution_count": 54
        },
        {
          "output_type": "stream",
          "text": [
            "･ RAM:  △Consumed    △Peaked    Used Total | Exec time 0:00:00.003\n",
            "･ CPU:          0          0      8,612 MB |\n",
            "･ GPU:          0          0        851 MB |\n"
          ],
          "name": "stdout"
        }
      ]
    },
    {
      "cell_type": "markdown",
      "metadata": {
        "id": "VO9He7440J9m",
        "colab_type": "text"
      },
      "source": [
        "# Benchmark 1: torchSODE vs scipy.integrate.solve_ivp"
      ]
    },
    {
      "cell_type": "markdown",
      "metadata": {
        "id": "3RG0iV5A0J9p",
        "colab_type": "text"
      },
      "source": [
        "Benchmark uses single step in ODEs --> higher overhead for CUDA kernel relaunching"
      ]
    },
    {
      "cell_type": "markdown",
      "metadata": {
        "id": "ElZyMjdQ0J91",
        "colab_type": "text"
      },
      "source": [
        "### scipy.integrate.solve_ivp\n",
        "\n",
        "Sparsity encoded in the ODE model.\n",
        "Base settings"
      ]
    },
    {
      "cell_type": "code",
      "metadata": {
        "id": "pUNd-efn0J92",
        "colab_type": "code",
        "colab": {}
      },
      "source": [
        "dt = 0.1\n",
        "t = torch.linspace(0, 0.01)\n",
        "k = 0\n",
        "exps = [10, 100, 1000, 10000]\n",
        "run_avgs = []\n",
        "for exp in exps:\n",
        "  run_avgs.append(0)\n",
        "  for j in range(2):\n",
        "    x0 = 5*torch.rand(exp).numpy()\n",
        "    F_orig = generateFS(2,0,1,-1,-2)\n",
        "    m = SparseBlockModel(F_orig)\n",
        "    start = time.process_time()\n",
        "    for i in range(1):\n",
        "        x0 = scipy.integrate.solve_ivp(m, t, x0, method='LSODA')\n",
        "        x0 = [el[-1] for el in x0.y]\n",
        "    elapsed_time = time.process_time() - start\n",
        "    run_avgs[k] += elapsed_time\n",
        "  run_avgs[k] = run_avgs[k]/500\n",
        "  k += 1"
      ],
      "execution_count": 0,
      "outputs": []
    },
    {
      "cell_type": "code",
      "metadata": {
        "id": "VZ9eyrYK22Ed",
        "colab_type": "code",
        "colab": {
          "base_uri": "https://localhost:8080/",
          "height": 86
        },
        "outputId": "6ec47b94-9324-4f75-c953-b5ce8c380ca4"
      },
      "source": [
        "run_avgs"
      ],
      "execution_count": 10,
      "outputs": [
        {
          "output_type": "execute_result",
          "data": {
            "text/plain": [
              "[3.996522000000446e-06,\n",
              " 1.7387280000003002e-06,\n",
              " 9.84979799999941e-06,\n",
              " 0.0018178153599999992]"
            ]
          },
          "metadata": {
            "tags": []
          },
          "execution_count": 10
        }
      ]
    },
    {
      "cell_type": "markdown",
      "metadata": {
        "id": "n8XvNyvs0J97",
        "colab_type": "text"
      },
      "source": [
        "### scipy.integrate.solve_ivp\n",
        "\n",
        "Sparsity not encoded in ODE model"
      ]
    },
    {
      "cell_type": "code",
      "metadata": {
        "id": "bNnRK7CP0J98",
        "colab_type": "code",
        "colab": {}
      },
      "source": [
        "F_orig = -0.5*torch.eye(12)\n",
        "x_orig = 20*torch.rand(12)\n",
        "m = SparseModel(F_orig)"
      ],
      "execution_count": 0,
      "outputs": []
    },
    {
      "cell_type": "code",
      "metadata": {
        "id": "qV_BNiP60J-A",
        "colab_type": "code",
        "colab": {},
        "outputId": "0d23c9eb-00b1-4e7f-ad1e-e1d3f1bfa07b"
      },
      "source": [
        "x0 = x_orig.numpy()\n",
        "F = F_orig.cuda()\n",
        "t = torch.linspace(0, 0.01)\n",
        "\n",
        "start = time.process_time()\n",
        "for i in range(10):\n",
        "    x0 = scipy.integrate.solve_ivp(m, t, x0)\n",
        "    x0 = [el[-1] for el in x0.y]\n",
        "elapsed_time = time.process_time() - start\n",
        "print(elapsed_time)"
      ],
      "execution_count": 0,
      "outputs": [
        {
          "output_type": "stream",
          "text": [
            "0.3715763589999881\n",
            "･ RAM:  △Consumed    △Peaked    Used Total | Exec time 0:00:00.341\n",
            "･ CPU:          0          8      2,346 MB |\n",
            "･ GPU:        382          0      1,610 MB |\n"
          ],
          "name": "stdout"
        }
      ]
    },
    {
      "cell_type": "markdown",
      "metadata": {
        "id": "qJMkzxEQ0J-G",
        "colab_type": "text"
      },
      "source": [
        "### torchSODE"
      ]
    },
    {
      "cell_type": "code",
      "metadata": {
        "id": "EmD1wXh10J-H",
        "colab_type": "code",
        "colab": {}
      },
      "source": [
        "dt = 0.1\n",
        "\n",
        "k = 0\n",
        "exps = [10, 100, 1000, 10000, 100000, 1000000, 10000000]\n",
        "run_avgs = []\n",
        "for exp in exps:\n",
        "  run_avgs.append(0)\n",
        "  for j in range(500):\n",
        "    x_orig = 5*torch.rand(exp)\n",
        "    x0 = x_orig.cuda()\n",
        "    F = generateFS(2,0,1,-1,-2).cuda()\n",
        "    grad = 5*torch.rand(exp).cuda()\n",
        "    start = time.process_time()\n",
        "    for t in range(1):\n",
        "        torchSODE.solve(F, x0, grad, dt, 1, 'Euler')\n",
        "    elapsed_time = time.process_time() - start\n",
        "    run_avgs[k] += elapsed_time\n",
        "  run_avgs[k] = run_avgs[k]/500\n",
        "  k += 1  "
      ],
      "execution_count": 0,
      "outputs": []
    },
    {
      "cell_type": "code",
      "metadata": {
        "id": "HV6qbSXu0J-M",
        "colab_type": "code",
        "colab": {
          "base_uri": "https://localhost:8080/",
          "height": 139
        },
        "outputId": "986e49f9-6c50-490c-e964-d85bff898d0c"
      },
      "source": [
        "run_avgs"
      ],
      "execution_count": 28,
      "outputs": [
        {
          "output_type": "execute_result",
          "data": {
            "text/plain": [
              "[4.8805290000046856e-05,\n",
              " 4.479062999976691e-05,\n",
              " 4.604339999950469e-05,\n",
              " 4.660790000038162e-05,\n",
              " 5.621347000023036e-05,\n",
              " 7.317621000005659e-05,\n",
              " 0.0003941942000005838]"
            ]
          },
          "metadata": {
            "tags": []
          },
          "execution_count": 28
        }
      ]
    },
    {
      "cell_type": "code",
      "metadata": {
        "id": "GkigSfw50J-R",
        "colab_type": "code",
        "colab": {},
        "outputId": "f77ad761-ea85-4338-b7de-a5d1906c1c6b"
      },
      "source": [
        "del exp1"
      ],
      "execution_count": 0,
      "outputs": [
        {
          "output_type": "stream",
          "text": [
            "･ RAM:  △Consumed    △Peaked    Used Total | Exec time 0:00:00.000\n",
            "･ CPU:          0          0      2,344 MB |\n",
            "･ GPU:          0          0      1,215 MB |\n",
            "\n",
            "IPyExperimentsPytorch: Finishing\n",
            "\n",
            "*** Experiment finished in 00:04:00 (elapsed wallclock time)\n",
            "\n",
            "*** Experiment memory:\n",
            "RAM: Consumed       Reclaimed\n",
            "CPU:        8        0 MB (  0.00%)\n",
            "GPU:       -7        0 MB ( -0.00%)\n",
            "\n",
            "*** Current state:\n",
            "RAM:    Used    Free   Total       Util\n",
            "CPU:   2,344   8,695  15,960 MB  14.69% \n",
            "GPU:   1,215   1,796   3,011 MB  40.35% \n",
            "\n",
            "\n"
          ],
          "name": "stdout"
        }
      ]
    },
    {
      "cell_type": "markdown",
      "metadata": {
        "id": "91xzekJF0J-Y",
        "colab_type": "text"
      },
      "source": [
        "# Benchmark 2: pySODE vs torchdiffeq.odeint"
      ]
    },
    {
      "cell_type": "code",
      "metadata": {
        "id": "vzhwrhzM0J-b",
        "colab_type": "code",
        "colab": {
          "base_uri": "https://localhost:8080/",
          "height": 260
        },
        "outputId": "b24ae13a-46ce-42a9-9c30-a25936001864"
      },
      "source": [
        "exp2 = ipyexperiments.IPyExperimentsPytorch()"
      ],
      "execution_count": 9,
      "outputs": [
        {
          "output_type": "stream",
          "text": [
            "\n",
            "*** Experiment started with the Pytorch backend\n",
            "Device: ID 0, Tesla T4 (15079 RAM)\n",
            "\n",
            "\n",
            "*** Current state:\n",
            "RAM:    Used    Free   Total       Util\n",
            "CPU:   3,426  10,230  13,022 MB  26.31% \n",
            "GPU:     769  14,309  15,079 MB   5.10% \n",
            "\n",
            "\n",
            "･ RAM:  △Consumed    △Peaked    Used Total | Exec time 0:00:00.000\n",
            "･ CPU:          0          0      3,426 MB |\n",
            "･ GPU:          0          0        769 MB |\n"
          ],
          "name": "stdout"
        }
      ]
    },
    {
      "cell_type": "code",
      "metadata": {
        "id": "1ohgPVDQ0J-m",
        "colab_type": "code",
        "colab": {
          "base_uri": "https://localhost:8080/",
          "height": 69
        },
        "outputId": "3ec92c96-06d1-453e-ccf6-a4e25a06e045"
      },
      "source": [
        "dt = 0.1\n",
        "t = torch.linspace(0, 0.01)\n",
        "k = 0\n",
        "exps = [10, 100, 1000, 10000, 100000, 1000000, 10000000]\n",
        "run_avgs = []\n",
        "for exp in exps:\n",
        "  run_avgs.append(0)\n",
        "  # less trials to average over cause too slow\n",
        "  for j in range(5):\n",
        "    x0 = 5*torch.rand(exp).cuda()\n",
        "    F_orig = generateFS(2,0,1,-1,-2).cuda()\n",
        "    m = SparseBlockModel(F_orig, False)\n",
        "    start = time.process_time()\n",
        "    # technically doing less compute since no grad matmul\n",
        "    # freebie for torchdiffeq\n",
        "    for i in range(1):\n",
        "        x0 = torchdiffeq.odeint(m, x0, t, method='euler')\n",
        "    elapsed_time = time.process_time() - start\n",
        "    run_avgs[k] += elapsed_time\n",
        "  run_avgs[k] = run_avgs[k]/500\n",
        "  k += 1"
      ],
      "execution_count": 10,
      "outputs": [
        {
          "output_type": "stream",
          "text": [
            "･ RAM:  △Consumed    △Peaked    Used Total | Exec time 0:00:02.931\n",
            "･ CPU:          0          0      3,432 MB |\n",
            "･ GPU:      3,818      4,442      4,587 MB |\n"
          ],
          "name": "stdout"
        }
      ]
    },
    {
      "cell_type": "code",
      "metadata": {
        "id": "3Npghx3862Jm",
        "colab_type": "code",
        "colab": {
          "base_uri": "https://localhost:8080/",
          "height": 173
        },
        "outputId": "cf9de93d-3608-4dd0-e5c7-61f79507d9fc"
      },
      "source": [
        "run_avgs"
      ],
      "execution_count": 11,
      "outputs": [
        {
          "output_type": "execute_result",
          "data": {
            "text/plain": [
              "[0.0004435634340000014,\n",
              " 0.0004374876499999978,\n",
              " 0.0004416669680000016,\n",
              " 0.00043930550600000196,\n",
              " 0.0004663634460000008,\n",
              " 0.0005831903759999992,\n",
              " 0.002850639335999997]"
            ]
          },
          "metadata": {
            "tags": []
          },
          "execution_count": 11
        },
        {
          "output_type": "stream",
          "text": [
            "･ RAM:  △Consumed    △Peaked    Used Total | Exec time 0:00:00.006\n",
            "･ CPU:          0          0      3,432 MB |\n",
            "･ GPU:          0          0      4,587 MB |\n"
          ],
          "name": "stdout"
        }
      ]
    },
    {
      "cell_type": "code",
      "metadata": {
        "id": "At28Mj5A0J-s",
        "colab_type": "code",
        "colab": {}
      },
      "source": [
        "del exp2"
      ],
      "execution_count": 0,
      "outputs": []
    },
    {
      "cell_type": "markdown",
      "metadata": {
        "id": "cnaKk7ea0J-6",
        "colab_type": "text"
      },
      "source": [
        "# Plots"
      ]
    },
    {
      "cell_type": "code",
      "metadata": {
        "id": "ROlGm33s0J-7",
        "colab_type": "code",
        "colab": {}
      },
      "source": [
        "psize = [10, 100, 1000, 10000, 100000, 1000000, 10000000]\n",
        "\n",
        "gemv_euler = np.array([0.0002646752340019702, 0.0002561305940000693, 0.0002675906779993511, 0.00027387985999894227, 0.0002945962260055239, \n",
        "              0.000341112876001489, 0.0005292007359992113])\n",
        "torchsode_euler = np.array([4.275023600000161e-05, 4.323997000000546e-05, 4.539206000000107e-05, 4.790058800001162e-05, 5.732423999998204e-05,\n",
        "                   7.474008400004095e-05, 0.00039631702199991283])\n",
        "scipy.solve_ivp = np.array([3.996522000000446e-06, 1.7387280000003002e-06, 9.84979799999941e-06, 0.0018178153599999992, 0.01, 0.01, 0.01])\n",
        "torchdiffeq_euler = np.array([0.0004435634340000014, 0.0004374876499999978, 0.0004416669680000016, 0.00043930550600000196, 0.0004663634460000008,\n",
        "                     0.0005831903759999992, 0.002850639335999997])\n",
        "\n",
        "\n",
        "#pysode_rk4 = []\n",
        "#pysode_euler_ss = []\n",
        "#pysode_euler_rk4 = []\n",
        "#torchdiffeq_euler = [0.003845, 0.002750, 0.003887, 0.003048]\n",
        "#GEMV = [0.000142, 0.000593, 0.000480, 0.000340]"
      ],
      "execution_count": 0,
      "outputs": []
    },
    {
      "cell_type": "code",
      "metadata": {
        "id": "p3AP7Vcb0J--",
        "colab_type": "code",
        "colab": {
          "base_uri": "https://localhost:8080/",
          "height": 283
        },
        "outputId": "5c73cf9d-e110-487f-c458-0c63530cf779"
      },
      "source": [
        "import math\n",
        "psize = [10, 100, 1000, 10000, 100000, 1000000, 10000000]\n",
        "psize = [math.log10(size) for size in psize]\n",
        "plt.plot(psize, gemv_euler, color='blue')\n",
        "plt.plot(psize, torchsode_euler, color='red')\n",
        "plt.plot(psize, scipy.solve_ivp, color='black')\n",
        "plt.plot(psize, torchdiffeq_euler, color='green')\n",
        "plt.legend(['GEMV (Sparse)', 'torchSODE', 'scipy', 'torchdiffeq'])\n",
        "axes = plt.gca()\n",
        "axes.set_ylim([0, 0.001])\n",
        "axes.set_xlim([1, max(psize)])\n",
        "plt.xlabel('# parameters (logscale)')\n",
        "plt.ylabel('time per step')\n",
        "plt.show()"
      ],
      "execution_count": 23,
      "outputs": [
        {
          "output_type": "display_data",
          "data": {
            "image/png": "[encoded data removed]",
            "text/plain": [
              "<Figure size 432x288 with 1 Axes>"
            ]
          },
          "metadata": {
            "tags": []
          }
        }
      ]
    },
    {
      "cell_type": "code",
      "metadata": {
        "id": "emnwSo0O_gUQ",
        "colab_type": "code",
        "colab": {
          "base_uri": "https://localhost:8080/",
          "height": 290
        },
        "outputId": "e829c5fd-a447-4fd8-82b0-257b82f62d54"
      },
      "source": [
        "width = 0.15\n",
        "y_pos = np.arange(4)\n",
        "plt.bar(y_pos, gemv_euler[:4], width)\n",
        "plt.bar(y_pos+width, torchsode_euler[:4], width)\n",
        "plt.bar(y_pos+2*width, scipy.solve_ivp[:4], width)\n",
        "plt.bar(y_pos+3*width, torchdiffeq_euler[:4], width)\n",
        "plt.legend(['GEMV (Sparse)', 'torchSODE', 'scipy', 'torchdiffeq'])\n",
        "plt.xlabel('# parameters (logscale)')\n",
        "ax = plt.gca()\n",
        "ax.set_xticklabels([])\n",
        "ax.set_ylim([0, 0.35*max(scipy.solve_ivp[:4])])\n",
        "plt.ylabel('time per step (s)')"
      ],
      "execution_count": 136,
      "outputs": [
        {
          "output_type": "execute_result",
          "data": {
            "text/plain": [
              "Text(0, 0.5, 'time per step (s)')"
            ]
          },
          "metadata": {
            "tags": []
          },
          "execution_count": 136
        },
        {
          "output_type": "display_data",
          "data": {
            "image/png": "[encoded data removed]",
            "text/plain": [
              "<Figure size 432x288 with 1 Axes>"
            ]
          },
          "metadata": {
            "tags": []
          }
        }
      ]
    },
    {
      "cell_type": "code",
      "metadata": {
        "id": "3y8Fv7nhAFrR",
        "colab_type": "code",
        "colab": {
          "base_uri": "https://localhost:8080/",
          "height": 290
        },
        "outputId": "403f69b2-05bd-4010-fc26-c1d34619f54f"
      },
      "source": [
        "width = 0.15\n",
        "y_pos = np.arange(4,7)\n",
        "plt.bar(y_pos, gemv_euler[4:7], width)\n",
        "plt.bar(y_pos+width, torchsode_euler[4:7], width)\n",
        "plt.bar(y_pos+2*width, scipy.solve_ivp[4:7], width)\n",
        "plt.bar(y_pos+3*width, torchdiffeq_euler[4:7], width)\n",
        "plt.legend(['GEMV (Sparse)', 'torchSODE', 'scipy', 'torchdiffeq'])\n",
        "plt.xlabel('# parameters (logscale)')\n",
        "ax = plt.gca()\n",
        "ax.set_xticklabels([])\n",
        "ax.set_ylim([0, 0.45*max(scipy.solve_ivp[4:7])])\n",
        "plt.ylabel('time per step (s)')"
      ],
      "execution_count": 139,
      "outputs": [
        {
          "output_type": "execute_result",
          "data": {
            "text/plain": [
              "Text(0, 0.5, 'time per step (s)')"
            ]
          },
          "metadata": {
            "tags": []
          },
          "execution_count": 139
        },
        {
          "output_type": "display_data",
          "data": {
            "image/png": "[encoded data removed]",
            "text/plain": [
              "<Figure size 432x288 with 1 Axes>"
            ]
          },
          "metadata": {
            "tags": []
          }
        }
      ]
    },
    {
      "cell_type": "code",
      "metadata": {
        "id": "MxpeRcvoJD5l",
        "colab_type": "code",
        "colab": {
          "base_uri": "https://localhost:8080/",
          "height": 275
        },
        "outputId": "5d7671a7-87e5-4008-dbd4-2e3b587ed8dd"
      },
      "source": [
        "perf1 = torchdiffeq_euler/(torchsode_euler)\n",
        "perf2 = gemv_euler/(torchsode_euler)\n",
        "width = 0.15\n",
        "y_pos = np.arange(7)\n",
        "plt.bar(y_pos, perf1, width)\n",
        "plt.bar(y_pos+width, perf2, width)\n",
        "plt.legend(['torchdiffeq', 'GEMV (Sparse)'])\n",
        "ax = plt.gca()\n",
        "ax.set_xticklabels([])\n",
        "plt.ylabel('speedup')"
      ],
      "execution_count": 162,
      "outputs": [
        {
          "output_type": "execute_result",
          "data": {
            "text/plain": [
              "Text(0, 0.5, 'speedup')"
            ]
          },
          "metadata": {
            "tags": []
          },
          "execution_count": 162
        },
        {
          "output_type": "display_data",
          "data": {
            "image/png": "[encoded data removed]",
            "text/plain": [
              "<Figure size 432x288 with 1 Axes>"
            ]
          },
          "metadata": {
            "tags": []
          }
        }
      ]
    }
  ]
}