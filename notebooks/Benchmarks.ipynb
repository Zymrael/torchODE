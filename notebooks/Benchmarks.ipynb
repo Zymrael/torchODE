{
 "cells": [
  {
   "cell_type": "code",
   "execution_count": 1,
   "metadata": {},
   "outputs": [],
   "source": [
    "import torch\n",
    "import numpy as np\n",
    "import matplotlib.pyplot as plt\n",
    "import scipy.integrate\n",
    "import pySODE\n",
    "import torchdiffeq"
   ]
  },
  {
   "cell_type": "code",
   "execution_count": 2,
   "metadata": {},
   "outputs": [],
   "source": [
    "import ipyexperiments\n",
    "import timeit\n",
    "import time"
   ]
  },
  {
   "cell_type": "code",
   "execution_count": 3,
   "metadata": {},
   "outputs": [],
   "source": [
    "torch.cuda.manual_seed_all(2)"
   ]
  },
  {
   "cell_type": "markdown",
   "metadata": {},
   "source": [
    "## Defining linear ODE model"
   ]
  },
  {
   "cell_type": "code",
   "execution_count": 4,
   "metadata": {},
   "outputs": [],
   "source": [
    "class GenericModel(object):\n",
    "    def __init__(self, F, numpy=True):\n",
    "        if numpy: self.F = F.numpy()\n",
    "        else: self.F = F\n",
    "        self.numpy = numpy\n",
    "    def __call__(self, dt, x):\n",
    "        if self.numpy: return np.matmul(self.F, x)\n",
    "        else: return torch.matmul(self.F, x)"
   ]
  },
  {
   "cell_type": "code",
   "execution_count": 5,
   "metadata": {},
   "outputs": [],
   "source": [
    "class SparseModel(GenericModel):\n",
    "    def __init__(self, F, numpy=True):\n",
    "        super().__init__(F, numpy)\n",
    "    def __call__(self, dt, x):\n",
    "        return self.F[0][0]*x"
   ]
  },
  {
   "cell_type": "code",
   "execution_count": 10,
   "metadata": {},
   "outputs": [
    {
     "ename": "RuntimeError",
     "evalue": "[enforce fail at CPUAllocator.cpp:56] posix_memalign(&data, gAlignment, nbytes) == 0. 12 vs 0\n",
     "output_type": "error",
     "traceback": [
      "\u001b[0;31m---------------------------------------------------------------------------\u001b[0m",
      "\u001b[0;31mRuntimeError\u001b[0m                              Traceback (most recent call last)",
      "\u001b[0;32m<ipython-input-10-86cd3e59dee6>\u001b[0m in \u001b[0;36m<module>\u001b[0;34m\u001b[0m\n\u001b[0;32m----> 1\u001b[0;31m \u001b[0mF_orig\u001b[0m \u001b[0;34m=\u001b[0m \u001b[0;34m-\u001b[0m\u001b[0;36m0.5\u001b[0m\u001b[0;34m*\u001b[0m\u001b[0mtorch\u001b[0m\u001b[0;34m.\u001b[0m\u001b[0meye\u001b[0m\u001b[0;34m(\u001b[0m\u001b[0;36m100000\u001b[0m\u001b[0;34m)\u001b[0m\u001b[0;34m\u001b[0m\u001b[0;34m\u001b[0m\u001b[0m\n\u001b[0m\u001b[1;32m      2\u001b[0m \u001b[0mx_orig\u001b[0m \u001b[0;34m=\u001b[0m \u001b[0;36m20\u001b[0m\u001b[0;34m*\u001b[0m\u001b[0mtorch\u001b[0m\u001b[0;34m.\u001b[0m\u001b[0mrand\u001b[0m\u001b[0;34m(\u001b[0m\u001b[0;36m100000\u001b[0m\u001b[0;34m)\u001b[0m\u001b[0;34m\u001b[0m\u001b[0;34m\u001b[0m\u001b[0m\n\u001b[1;32m      3\u001b[0m \u001b[0mm\u001b[0m \u001b[0;34m=\u001b[0m \u001b[0mGenericModel\u001b[0m\u001b[0;34m(\u001b[0m\u001b[0mF_orig\u001b[0m\u001b[0;34m)\u001b[0m\u001b[0;34m\u001b[0m\u001b[0;34m\u001b[0m\u001b[0m\n",
      "\u001b[0;31mRuntimeError\u001b[0m: [enforce fail at CPUAllocator.cpp:56] posix_memalign(&data, gAlignment, nbytes) == 0. 12 vs 0\n"
     ]
    }
   ],
   "source": [
    "F_orig = -0.5*torch.eye(100000)\n",
    "x_orig = 20*torch.rand(100000)\n",
    "m = GenericModel(F_orig)"
   ]
  },
  {
   "cell_type": "markdown",
   "metadata": {},
   "source": [
    "# Benchmark 0: naive Euler as iterated GEMV"
   ]
  },
  {
   "cell_type": "code",
   "execution_count": 17,
   "metadata": {},
   "outputs": [
    {
     "name": "stdout",
     "output_type": "stream",
     "text": [
      "0.0006520150000000058\n"
     ]
    }
   ],
   "source": [
    "dt = 0.1\n",
    "F = F_orig.cuda()\n",
    "x0 = x_orig.cuda()\n",
    "\n",
    "start = time.process_time()\n",
    "for t in range(10):\n",
    "    x0 += dt*(torch.matmul(F, x0))\n",
    "elapsed_time = time.process_time() - start\n",
    "print(elapsed_time)"
   ]
  },
  {
   "cell_type": "markdown",
   "metadata": {},
   "source": [
    "# Benchmark 1: pySODE vs scipy.integrate.solve_ivp"
   ]
  },
  {
   "cell_type": "markdown",
   "metadata": {},
   "source": [
    "Benchmark uses single step in ODEs --> higher overhead for CUDA kernel relaunching"
   ]
  },
  {
   "cell_type": "code",
   "execution_count": 20,
   "metadata": {},
   "outputs": [
    {
     "name": "stdout",
     "output_type": "stream",
     "text": [
      "\n",
      "*** Experiment started with the Pytorch backend\n",
      "Device: ID 0, GeForce GTX 1060 3GB (3011 RAM)\n",
      "\n",
      "\n",
      "*** Current state:\n",
      "RAM:    Used    Free   Total       Util\n",
      "CPU:   2,133   8,674  15,960 MB  13.37% \n",
      "GPU:   1,264   1,747   3,011 MB  41.97% \n",
      "\n",
      "\n",
      "･ RAM:  △Consumed    △Peaked    Used Total | Exec time 0:00:00.000\n",
      "･ CPU:          0          0      2,133 MB |\n",
      "･ GPU:          0          0      1,264 MB |\n"
     ]
    }
   ],
   "source": [
    "exp1 = ipyexperiments.IPyExperimentsPytorch()"
   ]
  },
  {
   "cell_type": "markdown",
   "metadata": {},
   "source": [
    "### scipy (no knowledge of sparsity)"
   ]
  },
  {
   "cell_type": "code",
   "execution_count": 21,
   "metadata": {},
   "outputs": [
    {
     "name": "stdout",
     "output_type": "stream",
     "text": [
      "0.005688022999999376\n",
      "･ RAM:  △Consumed    △Peaked    Used Total | Exec time 0:00:00.006\n",
      "･ CPU:          0          0      2,134 MB |\n",
      "･ GPU:          0          0      1,264 MB |\n"
     ]
    }
   ],
   "source": [
    "x0 = x_orig.numpy()\n",
    "t = torch.linspace(0, 0.01)\n",
    "\n",
    "start = time.process_time()\n",
    "for i in range(10):\n",
    "    x0 = scipy.integrate.solve_ivp(m, t, x0)\n",
    "    x0 = [el[-1] for el in x0.y]\n",
    "elapsed_time = time.process_time() - start\n",
    "print(elapsed_time)"
   ]
  },
  {
   "cell_type": "markdown",
   "metadata": {},
   "source": [
    "### smart scipy (model encodes sparsity to save compute)"
   ]
  },
  {
   "cell_type": "code",
   "execution_count": 24,
   "metadata": {},
   "outputs": [],
   "source": [
    "F_orig = -0.5*torch.eye(1000)\n",
    "x_orig = 20*torch.rand(1000)\n",
    "m = SparseModel(F_orig)"
   ]
  },
  {
   "cell_type": "code",
   "execution_count": 9,
   "metadata": {},
   "outputs": [
    {
     "name": "stdout",
     "output_type": "stream",
     "text": [
      "0.3715763589999881\n",
      "･ RAM:  △Consumed    △Peaked    Used Total | Exec time 0:00:00.341\n",
      "･ CPU:          0          8      2,346 MB |\n",
      "･ GPU:        382          0      1,610 MB |\n"
     ]
    }
   ],
   "source": [
    "x0 = x_orig.numpy()\n",
    "F = F_orig.cuda()\n",
    "t = torch.linspace(0, 0.01)\n",
    "\n",
    "start = time.process_time()\n",
    "for i in range(10):\n",
    "    x0 = scipy.integrate.solve_ivp(m, t, x0)\n",
    "    x0 = [el[-1] for el in x0.y]\n",
    "elapsed_time = time.process_time() - start\n",
    "print(elapsed_time)"
   ]
  },
  {
   "cell_type": "markdown",
   "metadata": {},
   "source": [
    "### pySODE"
   ]
  },
  {
   "cell_type": "code",
   "execution_count": 7,
   "metadata": {},
   "outputs": [
    {
     "name": "stdout",
     "output_type": "stream",
     "text": [
      "0.00018074400000056556\n"
     ]
    }
   ],
   "source": [
    "dt = 0.1\n",
    "F = F_orig.cuda()\n",
    "x0 = x_orig.cuda()\n",
    "\n",
    "start = time.process_time()\n",
    "for t in range(10):\n",
    "    x0 = pySODE.ode_solve(F, x0, x0, dt, 1, 10000, 'Euler')\n",
    "elapsed_time = time.process_time() - start\n",
    "print(elapsed_time)"
   ]
  },
  {
   "cell_type": "code",
   "execution_count": 20,
   "metadata": {},
   "outputs": [
    {
     "name": "stdout",
     "output_type": "stream",
     "text": [
      "pySODE (Euler) takes 99.9998% less time (vs base scipy)\n",
      "pySODE (Euler) takes 99.9979% less time (vs smart scipy)\n",
      "pySODE (Euler) takes 98.8849% less time (vs smart torchdiffeq)\n",
      "pySODE (Euler) takes 59.0538% less time (vs standard PyTorch GEMV)\n",
      "･ RAM:  △Consumed    △Peaked    Used Total | Exec time 0:00:00.001\n",
      "･ CPU:          0          0      2,517 MB |\n",
      "･ GPU:          0          0      1,646 MB |\n"
     ]
    }
   ],
   "source": [
    "print(f\"pySODE (Euler) takes {round(100*(127.6201-0.0002200)/127.6201,4)}% less time (vs base scipy)\")\n",
    "print(f\"pySODE (Euler) takes {round(100*(10.3715-0.0002200)/10.3715,4)}% less time (vs smart scipy)\")\n",
    "print(f\"pySODE (Euler) takes {round(100*(0.01973-0.0002200)/0.01973,4)}% less time (vs smart torchdiffeq)\")\n",
    "print(f\"pySODE (Euler) takes {round(100*(0.00053729-0.0002200)/0.00053729,4)}% less time (vs standard PyTorch GEMV)\")"
   ]
  },
  {
   "cell_type": "code",
   "execution_count": 20,
   "metadata": {},
   "outputs": [
    {
     "name": "stdout",
     "output_type": "stream",
     "text": [
      "･ RAM:  △Consumed    △Peaked    Used Total | Exec time 0:00:00.000\n",
      "･ CPU:          0          0      2,344 MB |\n",
      "･ GPU:          0          0      1,215 MB |\n",
      "\n",
      "IPyExperimentsPytorch: Finishing\n",
      "\n",
      "*** Experiment finished in 00:04:00 (elapsed wallclock time)\n",
      "\n",
      "*** Experiment memory:\n",
      "RAM: Consumed       Reclaimed\n",
      "CPU:        8        0 MB (  0.00%)\n",
      "GPU:       -7        0 MB ( -0.00%)\n",
      "\n",
      "*** Current state:\n",
      "RAM:    Used    Free   Total       Util\n",
      "CPU:   2,344   8,695  15,960 MB  14.69% \n",
      "GPU:   1,215   1,796   3,011 MB  40.35% \n",
      "\n",
      "\n"
     ]
    }
   ],
   "source": [
    "del exp1"
   ]
  },
  {
   "cell_type": "markdown",
   "metadata": {},
   "source": [
    "# Benchmark 2: pySODE vs torchdiffeq.odeint"
   ]
  },
  {
   "cell_type": "code",
   "execution_count": 25,
   "metadata": {},
   "outputs": [
    {
     "name": "stdout",
     "output_type": "stream",
     "text": [
      "\n",
      "*** Experiment started with the Pytorch backend\n",
      "Device: ID 0, GeForce GTX 1060 3GB (3011 RAM)\n",
      "\n",
      "\n",
      "*** Current state:\n",
      "RAM:    Used    Free   Total       Util\n",
      "CPU:   2,466   8,535  15,960 MB  15.45% \n",
      "GPU:   1,604   1,407   3,011 MB  53.27% \n",
      "\n",
      "\n",
      "･ RAM:  △Consumed    △Peaked    Used Total | Exec time 0:00:00.063\n",
      "･ CPU:          0          0      2,466 MB |\n",
      "･ GPU:          0          0      1,604 MB |\n",
      "･ RAM:  △Consumed    △Peaked    Used Total | Exec time 0:00:00.025\n",
      "･ CPU:          0          0      2,466 MB |\n",
      "･ GPU:          0          0      1,604 MB |\n"
     ]
    }
   ],
   "source": [
    "exp2 = ipyexperiments.IPyExperimentsPytorch()"
   ]
  },
  {
   "cell_type": "code",
   "execution_count": 11,
   "metadata": {},
   "outputs": [],
   "source": [
    "F_orig = F_orig.cuda()\n",
    "x0 = x_orig.cuda()\n",
    "m = SparseModel(F_orig, False)"
   ]
  },
  {
   "cell_type": "code",
   "execution_count": 12,
   "metadata": {},
   "outputs": [
    {
     "name": "stdout",
     "output_type": "stream",
     "text": [
      "0.003048313999999941\n"
     ]
    }
   ],
   "source": [
    "t = torch.linspace(0, 0.1, 10)\n",
    "x0 = x_orig.cuda()\n",
    "\n",
    "start = time.process_time()\n",
    "for i in range(1):\n",
    "    x0 = torchdiffeq.odeint(m, x0, t, method='euler')\n",
    "elapsed_time = time.process_time() - start\n",
    "print(elapsed_time)"
   ]
  },
  {
   "cell_type": "code",
   "execution_count": 16,
   "metadata": {},
   "outputs": [
    {
     "ename": "NameError",
     "evalue": "name 'exp2' is not defined",
     "output_type": "error",
     "traceback": [
      "\u001b[0;31m---------------------------------------------------------------------------\u001b[0m",
      "\u001b[0;31mNameError\u001b[0m                                 Traceback (most recent call last)",
      "\u001b[0;32m<ipython-input-16-656db7bca72d>\u001b[0m in \u001b[0;36m<module>\u001b[0;34m\u001b[0m\n\u001b[0;32m----> 1\u001b[0;31m \u001b[0;32mdel\u001b[0m \u001b[0mexp2\u001b[0m\u001b[0;34m\u001b[0m\u001b[0;34m\u001b[0m\u001b[0m\n\u001b[0m",
      "\u001b[0;31mNameError\u001b[0m: name 'exp2' is not defined"
     ]
    }
   ],
   "source": [
    "del exp2"
   ]
  },
  {
   "cell_type": "markdown",
   "metadata": {},
   "source": [
    "# Benchmark 3: pySODE vs scipy.integrate (SSRK4)"
   ]
  },
  {
   "cell_type": "markdown",
   "metadata": {},
   "source": [
    "# Benchmark 4: pySODE vs torchdiffeq.odeint (SSRK4)"
   ]
  },
  {
   "cell_type": "markdown",
   "metadata": {},
   "source": [
    "# Benchmark Final: training big MLP - pySODE vs torchdiffeq"
   ]
  },
  {
   "cell_type": "code",
   "execution_count": null,
   "metadata": {},
   "outputs": [],
   "source": []
  },
  {
   "cell_type": "markdown",
   "metadata": {},
   "source": [
    "# Plots"
   ]
  },
  {
   "cell_type": "code",
   "execution_count": 8,
   "metadata": {},
   "outputs": [],
   "source": [
    "psize = [10, 100, 1000, 10000, 100000]\n",
    "pysode_euler = [0.000181, 0.000188, 0.000180, 0.000181]\n",
    "pysode_rk4 = []\n",
    "pysode_euler_ss = []\n",
    "pysode_euler_rk4 = []\n",
    "torchdiffeq_euler = [0.003845, 0.002750, 0.003887, 0.003048]\n",
    "GEMV = [0.000512, 0.000603, 0.002079, 0.000523]"
   ]
  },
  {
   "cell_type": "code",
   "execution_count": 14,
   "metadata": {},
   "outputs": [
    {
     "data": {
      "text/plain": [
       "[<matplotlib.lines.Line2D at 0x7f94b9c124e0>]"
      ]
     },
     "execution_count": 14,
     "metadata": {},
     "output_type": "execute_result"
    },
    {
     "data": {
      "image/png": "[encoded data removed]",
      "text/plain": [
       "<Figure size 432x288 with 1 Axes>"
      ]
     },
     "metadata": {
      "needs_background": "light"
     },
     "output_type": "display_data"
    }
   ],
   "source": [
    "plt.plot(psize, GEMV)"
   ]
  },
  {
   "cell_type": "code",
   "execution_count": null,
   "metadata": {},
   "outputs": [],
   "source": []
  }
 ],
 "metadata": {
  "kernelspec": {
   "display_name": "Python 3",
   "language": "python",
   "name": "python3"
  },
  "language_info": {
   "codemirror_mode": {
    "name": "ipython",
    "version": 3
   },
   "file_extension": ".py",
   "mimetype": "text/x-python",
   "name": "python",
   "nbconvert_exporter": "python",
   "pygments_lexer": "ipython3",
   "version": "3.7.3"
  }
 },
 "nbformat": 4,
 "nbformat_minor": 2
}
