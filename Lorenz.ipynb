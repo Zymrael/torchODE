{
 "cells": [
  {
   "cell_type": "code",
   "execution_count": 1,
   "metadata": {},
   "outputs": [],
   "source": [
    "#include <deque>\n",
    "#include <string>\n",
    "#include <vector>\n",
    "#include <iostream>"
   ]
  },
  {
   "cell_type": "code",
   "execution_count": 2,
   "metadata": {},
   "outputs": [],
   "source": [
    "using value_t = double;\n",
    "using state_t = std::vector<value_t>;"
   ]
  },
  {
   "cell_type": "code",
   "execution_count": 3,
   "metadata": {},
   "outputs": [],
   "source": [
    "void Lorenz(const state_t& x, state_t& xd)\n",
    "{\n",
    "  static constexpr double sigma = 10.0;\n",
    "  static constexpr double R = 28.0;\n",
    "  static constexpr double b = 8.0 / 3.0;\n",
    "\n",
    "  xd[0] = sigma * (x[1] - x[0]);\n",
    "  xd[1] = R * x[0] - x[1] - x[0] * x[2];\n",
    "  xd[2] = -b * x[2] + x[0] * x[1];\n",
    "};"
   ]
  },
  {
   "cell_type": "code",
   "execution_count": 4,
   "metadata": {},
   "outputs": [],
   "source": [
    "std::vector<double> test[10];"
   ]
  },
  {
   "cell_type": "code",
   "execution_count": 5,
   "metadata": {},
   "outputs": [],
   "source": [
    "std::vector<double> trajectory()\n",
    "{\n",
    "   state_t x = { 10.0, 1.0, 1.0 };\n",
    "   state_t xd = {0.0, 0.0, 0.0 };\n",
    "   double t = 0.0;\n",
    "   double dt = 0.01;\n",
    "   double t_end = 2.0;\n",
    "   std::vector<double> record;\n",
    "   int step = 0;\n",
    "    \n",
    "   while (t < t_end)\n",
    "   {\n",
    "       \n",
    "        Lorenz(x, xd);\n",
    "        for(int j = 0; j < xd.size(); j++)\n",
    "        {\n",
    "            record[step+j] = xd[j];\n",
    "            std::cout<<xd[j];\n",
    "        }\n",
    "        t += dt;\n",
    "        step += xd.size();\n",
    "   }\n",
    "   return record;\n",
    "}"
   ]
  },
  {
   "cell_type": "code",
   "execution_count": 6,
   "metadata": {},
   "outputs": [],
   "source": [
    "std::vector<double> xi;"
   ]
  },
  {
   "cell_type": "code",
   "execution_count": null,
   "metadata": {},
   "outputs": [],
   "source": [
    "xi = trajectory()"
   ]
  },
  {
   "cell_type": "code",
   "execution_count": 9,
   "metadata": {},
   "outputs": [
    {
     "data": {
      "text/plain": [
       "{}"
      ]
     },
     "execution_count": 9,
     "metadata": {},
     "output_type": "execute_result"
    }
   ],
   "source": [
    "xi"
   ]
  },
  {
   "cell_type": "code",
   "execution_count": null,
   "metadata": {},
   "outputs": [],
   "source": []
  }
 ],
 "metadata": {
  "kernelspec": {
   "display_name": "C++14",
   "language": "C++14",
   "name": "xcpp14"
  },
  "language_info": {
   "codemirror_mode": "text/x-c++src",
   "file_extension": ".cpp",
   "mimetype": "text/x-c++src",
   "name": "c++",
   "version": "-std=c++14"
  }
 },
 "nbformat": 4,
 "nbformat_minor": 2
}
