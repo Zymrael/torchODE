{
 "cells": [
  {
   "cell_type": "code",
   "execution_count": 1,
   "metadata": {},
   "outputs": [],
   "source": [
    "import torch\n",
    "import torch.nn as nn\n",
    "import numpy as np\n",
    "import torch.nn.functional as F\n",
    "import torch.utils.data as data_utils\n",
    "import matplotlib.pyplot as plt\n",
    "from scipy.integrate import odeint\n",
    "from sklearn.model_selection import train_test_split\n",
    "import sklearn.datasets as datasets\n",
    "import pySODE\n",
    "import torchdiffeq"
   ]
  },
  {
   "cell_type": "code",
   "execution_count": 2,
   "metadata": {},
   "outputs": [],
   "source": [
    "import ipyexperiments\n",
    "import timeit\n",
    "import time"
   ]
  },
  {
   "cell_type": "code",
   "execution_count": 3,
   "metadata": {},
   "outputs": [],
   "source": [
    "torch.cuda.manual_seed_all(2)"
   ]
  },
  {
   "cell_type": "code",
   "execution_count": 4,
   "metadata": {},
   "outputs": [],
   "source": [
    "device = torch.device(\"cuda:0\" if torch.cuda.is_available() else \"cpu\")"
   ]
  },
  {
   "cell_type": "markdown",
   "metadata": {},
   "source": [
    "## Defining linear ODE model"
   ]
  },
  {
   "cell_type": "code",
   "execution_count": 5,
   "metadata": {},
   "outputs": [],
   "source": [
    "class GenericModel(object):\n",
    "    def __init__(self, F, numpy=True):\n",
    "        if numpy: self.F = F.numpy()\n",
    "        else: self.F = F\n",
    "        self.numpy = numpy\n",
    "    def __call__(self, dt, x):\n",
    "        if self.numpy: return np.matmul(self.F, x)\n",
    "        else: return torch.matmul(self.F, x)"
   ]
  },
  {
   "cell_type": "code",
   "execution_count": 6,
   "metadata": {},
   "outputs": [],
   "source": [
    "class SparseModel(GenericModel):\n",
    "    def __init__(self, F, numpy=True):\n",
    "        super().__init__(F, numpy)\n",
    "    def __call__(self, dt, x):\n",
    "        return self.F[0][0]*x"
   ]
  },
  {
   "cell_type": "code",
   "execution_count": 7,
   "metadata": {},
   "outputs": [],
   "source": [
    "F_orig = -0.5*torch.eye(1)\n",
    "x_orig = 20*torch.rand(100000)\n",
    "m = GenericModel(F_orig)"
   ]
  },
  {
   "cell_type": "markdown",
   "metadata": {},
   "source": [
    "## Creating dataset"
   ]
  },
  {
   "cell_type": "code",
   "execution_count": 44,
   "metadata": {},
   "outputs": [
    {
     "name": "stdout",
     "output_type": "stream",
     "text": [
      "･ RAM:  △Consumed    △Peaked    Used Total | Exec time 0:00:00.002\n",
      "･ CPU:          0          0      2,173 MB |\n",
      "･ GPU:          9          0      1,732 MB |\n"
     ]
    }
   ],
   "source": [
    "data = 'spirals'"
   ]
  },
  {
   "cell_type": "code",
   "execution_count": 45,
   "metadata": {},
   "outputs": [
    {
     "name": "stdout",
     "output_type": "stream",
     "text": [
      "･ RAM:  △Consumed    △Peaked    Used Total | Exec time 0:00:00.007\n",
      "･ CPU:          0          0      2,173 MB |\n",
      "･ GPU:          0          0      1,732 MB |\n"
     ]
    }
   ],
   "source": [
    "def twospirals(n_points, noise=.5):\n",
    "    \"\"\"\n",
    "     Returns the two spirals dataset.\n",
    "    \"\"\"\n",
    "    n = np.sqrt(np.random.rand(n_points,1)) * 780 * (2*np.pi)/360\n",
    "    d1x = -np.cos(n)*n + np.random.rand(n_points,1) * noise\n",
    "    d1y = np.sin(n)*n + np.random.rand(n_points,1) * noise\n",
    "    return (np.vstack((np.hstack((d1x,d1y)),np.hstack((-d1x,-d1y)))), \n",
    "            np.hstack((np.zeros(n_points),np.ones(n_points))))"
   ]
  },
  {
   "cell_type": "code",
   "execution_count": 46,
   "metadata": {},
   "outputs": [
    {
     "data": {
      "image/png": "[encoded data removed]",
      "text/plain": [
       "<Figure size 432x288 with 1 Axes>"
      ]
     },
     "metadata": {
      "needs_background": "light"
     },
     "output_type": "display_data"
    },
    {
     "name": "stdout",
     "output_type": "stream",
     "text": [
      "･ RAM:  △Consumed    △Peaked    Used Total | Exec time 0:00:00.168\n",
      "･ CPU:          0          0      2,173 MB |\n",
      "･ GPU:          0          0      1,732 MB |\n"
     ]
    }
   ],
   "source": [
    "if data == 'blobs':\n",
    "    X,yn = datasets.make_blobs(n_samples=256, centers = 2,n_features=2, cluster_std=4)\n",
    "    plt.scatter(X[yn==1,0],X[yn==1,1],color='blue')\n",
    "    plt.scatter(X[yn==0,0],X[yn==0,1],color='red')\n",
    "if data == 'moons':\n",
    "    X, yn = datasets.make_moons(n_samples=10)\n",
    "    plt.scatter(X[yn==1,0],X[yn==1,1],color='blue')\n",
    "    plt.scatter(X[yn==0,0],X[yn==0,1],color='red')\n",
    "if data == 'mclass':\n",
    "    X, yn = datasets.make_classification(n_samples=500,n_informative=4,n_clusters_per_class=3,n_classes=3)\n",
    "    plt.scatter(X[yn==1,0],X[yn==1,1],color='blue')\n",
    "    plt.scatter(X[yn==0,0],X[yn==0,1],color='red')\n",
    "    plt.scatter(X[yn==2,0],X[yn==2,1],color='green')\n",
    "if data == 'spirals':\n",
    "    X, yn = twospirals(256)\n",
    "    plt.title('training set')\n",
    "    plt.plot(X[yn==0,0], X[yn==0,1], '.', label='class 1')\n",
    "    plt.plot(X[yn==1,0], X[yn==1,1], '.', label='class 2')\n",
    "    plt.legend()"
   ]
  },
  {
   "cell_type": "code",
   "execution_count": 47,
   "metadata": {},
   "outputs": [
    {
     "name": "stdout",
     "output_type": "stream",
     "text": [
      "･ RAM:  △Consumed    △Peaked    Used Total | Exec time 0:00:00.004\n",
      "･ CPU:          0          0      2,173 MB |\n",
      "･ GPU:          0          0      1,732 MB |\n"
     ]
    }
   ],
   "source": [
    "X_train, X_test, y_train, y_test = train_test_split(X, yn, test_size=0.5)"
   ]
  },
  {
   "cell_type": "code",
   "execution_count": 48,
   "metadata": {},
   "outputs": [
    {
     "name": "stdout",
     "output_type": "stream",
     "text": [
      "･ RAM:  △Consumed    △Peaked    Used Total | Exec time 0:00:00.010\n",
      "･ CPU:          0          0      2,173 MB |\n",
      "･ GPU:          0          0      1,732 MB |\n"
     ]
    }
   ],
   "source": [
    "# choose batch size here\n",
    "bs = 32\n",
    "\n",
    "X_train = torch.Tensor(X_train).to(device)\n",
    "y_train = torch.LongTensor(y_train).to(device)\n",
    "X_test = torch.Tensor(X_test).to(device)\n",
    "y_test = torch.LongTensor(y_test).to(device)\n",
    "\n",
    "train = data_utils.TensorDataset(X_train,y_train)\n",
    "trainloader = data_utils.DataLoader(train, batch_size=bs, shuffle=True)\n",
    "\n",
    "test = data_utils.TensorDataset(X_test,y_test)\n",
    "testloader = data_utils.DataLoader(test, batch_size=bs, shuffle=True)"
   ]
  },
  {
   "cell_type": "markdown",
   "metadata": {},
   "source": [
    "# Neural Network definition"
   ]
  },
  {
   "cell_type": "code",
   "execution_count": 49,
   "metadata": {},
   "outputs": [
    {
     "name": "stdout",
     "output_type": "stream",
     "text": [
      "･ RAM:  △Consumed    △Peaked    Used Total | Exec time 0:00:00.009\n",
      "･ CPU:          0          0      2,173 MB |\n",
      "･ GPU:          0          0      1,732 MB |\n"
     ]
    }
   ],
   "source": [
    "class MLP(nn.Module):\n",
    "    def __init__(self, dense_layers, softmax = True):\n",
    "        '''\n",
    "        Simple dense MLP class used as predictor\n",
    "        \n",
    "        :smax_l: leave True for softmax applied to ouput\n",
    "        '''\n",
    "        super().__init__()\n",
    "        self.dense_layers = nn.ModuleList([nn.Linear(dense_layers[i], dense_layers[i + 1]) \\\n",
    "                                           for i in range(len(dense_layers) - 1)])\n",
    "        self.softmax = softmax\n",
    "        \n",
    "    def getLength(self):\n",
    "        return len(self.dense_layers)\n",
    "\n",
    "    def forward(self, x):\n",
    "        x = x.view(x.size(0), -1)\n",
    "        for l in self.dense_layers:\n",
    "            l_x = l(x)\n",
    "            x = F.relu(l_x)\n",
    "        if not self.softmax: return l_x\n",
    "        else: return F.log_softmax(l_x, dim=-1)"
   ]
  },
  {
   "cell_type": "markdown",
   "metadata": {},
   "source": [
    "# Training"
   ]
  },
  {
   "cell_type": "code",
   "execution_count": 18,
   "metadata": {},
   "outputs": [
    {
     "name": "stdout",
     "output_type": "stream",
     "text": [
      "\n",
      "*** Experiment started with the Pytorch backend\n",
      "Device: ID 0, GeForce GTX 1060 3GB (3011 RAM)\n",
      "\n",
      "\n",
      "*** Current state:\n",
      "RAM:    Used    Free   Total       Util\n",
      "CPU:   2,150   6,535  15,960 MB  13.47% \n",
      "GPU:   1,716   1,294   3,011 MB  57.01% \n",
      "\n",
      "\n",
      "･ RAM:  △Consumed    △Peaked    Used Total | Exec time 0:00:00.075\n",
      "･ CPU:          0          0      2,150 MB |\n",
      "･ GPU:          0          0      1,716 MB |\n",
      "\n",
      "IPyExperimentsPytorch: Finishing\n",
      "\n",
      "*** Experiment finished in 00:00:32 (elapsed wallclock time)\n",
      "\n",
      "*** Newly defined local variables:\n",
      "Deleted: criterion, d, dataiter, dt, epochs, i, idx, ode_steps, optimizer, x, y\n",
      "Failed to delete: e, j\n",
      "\n",
      "*** Experiment memory:\n",
      "RAM: Consumed       Reclaimed\n",
      "CPU:      183        0 MB (  0.00%)\n",
      "GPU:       33        0 MB (  0.00%)\n",
      "\n",
      "*** Current state:\n",
      "RAM:    Used    Free   Total       Util\n",
      "CPU:   2,150   6,535  15,960 MB  13.47% \n",
      "GPU:   1,716   1,294   3,011 MB  57.01% \n",
      "\n",
      "\n",
      "･ RAM:  △Consumed    △Peaked    Used Total | Exec time 0:00:00.052\n",
      "･ CPU:          0          0      2,150 MB |\n",
      "･ GPU:          0          0      1,716 MB |\n"
     ]
    }
   ],
   "source": [
    "exp1 = ipyexperiments.IPyExperimentsPytorch()"
   ]
  },
  {
   "cell_type": "code",
   "execution_count": 34,
   "metadata": {},
   "outputs": [
    {
     "name": "stdout",
     "output_type": "stream",
     "text": [
      "･ RAM:  △Consumed    △Peaked    Used Total | Exec time 0:00:00.007\n",
      "･ CPU:          0          0      2,170 MB |\n",
      "･ GPU:          0          0      1,720 MB |\n"
     ]
    }
   ],
   "source": [
    "m = MLP([2, 10, 10, 2]).cuda()"
   ]
  },
  {
   "cell_type": "code",
   "execution_count": 35,
   "metadata": {},
   "outputs": [
    {
     "name": "stdout",
     "output_type": "stream",
     "text": [
      "･ RAM:  △Consumed    △Peaked    Used Total | Exec time 0:00:00.394\n",
      "･ CPU:          0          0      2,171 MB |\n",
      "･ GPU:          0          0      1,720 MB |\n"
     ]
    }
   ],
   "source": [
    "criterion = F.nll_loss\n",
    "optimizer = torch.optim.SGD(m.parameters(), lr=0.01, momentum=0.9)\n",
    "epochs = 100\n",
    "dt = 0.01 \n",
    "ode_steps = 1\n",
    "\n",
    "for e in range(epochs):\n",
    "    dataiter = iter(trainloader)\n",
    "\n",
    "    for i, d in enumerate(dataiter):\n",
    "        x, y = next(dataiter)\n",
    "        x, y = x.cuda(), y.cuda()\n",
    "        for j in range(ode_steps):\n",
    "            loss = criterion(m(x), y)\n",
    "            loss.backward()\n",
    "            with torch.no_grad():\n",
    "                for p in m.parameters():\n",
    "                    n = torch.numel(p)\n",
    "                    p = pySODE.ode_solve(-torch.eye(n).cuda(), p.view(-1), p.grad.view(-1), dt, 1, n, 'Euler')\n",
    "        m.zero_grad()"
   ]
  },
  {
   "cell_type": "code",
   "execution_count": null,
   "metadata": {},
   "outputs": [],
   "source": [
    "del exp1"
   ]
  },
  {
   "cell_type": "code",
   "execution_count": 50,
   "metadata": {},
   "outputs": [
    {
     "name": "stdout",
     "output_type": "stream",
     "text": [
      "\n",
      "*** Experiment started with the Pytorch backend\n",
      "Device: ID 0, GeForce GTX 1060 3GB (3011 RAM)\n",
      "\n",
      "\n",
      "*** Current state:\n",
      "RAM:    Used    Free   Total       Util\n",
      "CPU:   2,173   6,485  15,960 MB  13.62% \n",
      "GPU:   1,732   1,278   3,011 MB  57.54% \n",
      "\n",
      "\n",
      "･ RAM:  △Consumed    △Peaked    Used Total | Exec time 0:00:00.069\n",
      "･ CPU:          0          0      2,173 MB |\n",
      "･ GPU:          0          0      1,732 MB |\n",
      "･ RAM:  △Consumed    △Peaked    Used Total | Exec time 0:00:00.025\n",
      "･ CPU:          0          0      2,173 MB |\n",
      "･ GPU:          0          0      1,732 MB |\n"
     ]
    }
   ],
   "source": [
    "exp2 = ipyexperiments.IPyExperimentsPytorch()"
   ]
  },
  {
   "cell_type": "code",
   "execution_count": 58,
   "metadata": {},
   "outputs": [
    {
     "name": "stdout",
     "output_type": "stream",
     "text": [
      "･ RAM:  △Consumed    △Peaked    Used Total | Exec time 0:00:00.120\n",
      "･ CPU:          0          0      2,182 MB |\n",
      "･ GPU:          0         40      1,784 MB |\n",
      "･ RAM:  △Consumed    △Peaked    Used Total | Exec time 0:00:00.150\n",
      "･ CPU:          0          0      2,182 MB |\n",
      "･ GPU:          0         40      1,784 MB |\n"
     ]
    }
   ],
   "source": [
    "m = MLP([2, 10000, 1000, 1000, 100, 2]).cuda()"
   ]
  },
  {
   "cell_type": "code",
   "execution_count": 59,
   "metadata": {},
   "outputs": [
    {
     "data": {
      "text/plain": [
       "11132302"
      ]
     },
     "execution_count": 59,
     "metadata": {},
     "output_type": "execute_result"
    },
    {
     "name": "stdout",
     "output_type": "stream",
     "text": [
      "･ RAM:  △Consumed    △Peaked    Used Total | Exec time 0:00:00.003\n",
      "･ CPU:          0          0      2,182 MB |\n",
      "･ GPU:          0          0      1,784 MB |\n",
      "･ RAM:  △Consumed    △Peaked    Used Total | Exec time 0:00:00.043\n",
      "･ CPU:          0          0      2,182 MB |\n",
      "･ GPU:          0          0      1,784 MB |\n"
     ]
    }
   ],
   "source": [
    "def count_parameters(model):\n",
    "    return sum(p.numel() for p in model.parameters() if p.requires_grad)\n",
    "\n",
    "count_parameters(m)"
   ]
  },
  {
   "cell_type": "code",
   "execution_count": 60,
   "metadata": {},
   "outputs": [
    {
     "ename": "RuntimeError",
     "evalue": "CUDA out of memory. Tried to allocate 1.49 GiB (GPU 0; 2.94 GiB total capacity; 88.71 MiB already allocated; 1.16 GiB free; 19.29 MiB cached)",
     "output_type": "error",
     "traceback": [
      "\u001b[0;31m---------------------------------------------------------------------------\u001b[0m",
      "\u001b[0;31mRuntimeError\u001b[0m                              Traceback (most recent call last)",
      "\u001b[0;32m<ipython-input-60-a284dd5d21ad>\u001b[0m in \u001b[0;36m<module>\u001b[0;34m\u001b[0m\n\u001b[1;32m     17\u001b[0m                 \u001b[0;32mfor\u001b[0m \u001b[0mp\u001b[0m \u001b[0;32min\u001b[0m \u001b[0mm\u001b[0m\u001b[0;34m.\u001b[0m\u001b[0mparameters\u001b[0m\u001b[0;34m(\u001b[0m\u001b[0;34m)\u001b[0m\u001b[0;34m:\u001b[0m\u001b[0;34m\u001b[0m\u001b[0;34m\u001b[0m\u001b[0m\n\u001b[1;32m     18\u001b[0m                     \u001b[0mn\u001b[0m \u001b[0;34m=\u001b[0m \u001b[0mtorch\u001b[0m\u001b[0;34m.\u001b[0m\u001b[0mnumel\u001b[0m\u001b[0;34m(\u001b[0m\u001b[0mp\u001b[0m\u001b[0;34m)\u001b[0m\u001b[0;34m\u001b[0m\u001b[0;34m\u001b[0m\u001b[0m\n\u001b[0;32m---> 19\u001b[0;31m                     \u001b[0mp\u001b[0m \u001b[0;34m=\u001b[0m \u001b[0mpySODE\u001b[0m\u001b[0;34m.\u001b[0m\u001b[0mode_solve\u001b[0m\u001b[0;34m(\u001b[0m\u001b[0;34m-\u001b[0m\u001b[0mtorch\u001b[0m\u001b[0;34m.\u001b[0m\u001b[0meye\u001b[0m\u001b[0;34m(\u001b[0m\u001b[0mn\u001b[0m\u001b[0;34m)\u001b[0m\u001b[0;34m.\u001b[0m\u001b[0mcuda\u001b[0m\u001b[0;34m(\u001b[0m\u001b[0;34m)\u001b[0m\u001b[0;34m,\u001b[0m \u001b[0mp\u001b[0m\u001b[0;34m.\u001b[0m\u001b[0mview\u001b[0m\u001b[0;34m(\u001b[0m\u001b[0;34m-\u001b[0m\u001b[0;36m1\u001b[0m\u001b[0;34m)\u001b[0m\u001b[0;34m,\u001b[0m \u001b[0mp\u001b[0m\u001b[0;34m.\u001b[0m\u001b[0mgrad\u001b[0m\u001b[0;34m.\u001b[0m\u001b[0mview\u001b[0m\u001b[0;34m(\u001b[0m\u001b[0;34m-\u001b[0m\u001b[0;36m1\u001b[0m\u001b[0;34m)\u001b[0m\u001b[0;34m,\u001b[0m \u001b[0mdt\u001b[0m\u001b[0;34m,\u001b[0m \u001b[0;36m1\u001b[0m\u001b[0;34m,\u001b[0m \u001b[0mn\u001b[0m\u001b[0;34m,\u001b[0m \u001b[0;34m'Euler'\u001b[0m\u001b[0;34m)\u001b[0m\u001b[0;34m\u001b[0m\u001b[0;34m\u001b[0m\u001b[0m\n\u001b[0m\u001b[1;32m     20\u001b[0m         \u001b[0mm\u001b[0m\u001b[0;34m.\u001b[0m\u001b[0mzero_grad\u001b[0m\u001b[0;34m(\u001b[0m\u001b[0;34m)\u001b[0m\u001b[0;34m\u001b[0m\u001b[0;34m\u001b[0m\u001b[0m\n",
      "\u001b[0;31mRuntimeError\u001b[0m: CUDA out of memory. Tried to allocate 1.49 GiB (GPU 0; 2.94 GiB total capacity; 88.71 MiB already allocated; 1.16 GiB free; 19.29 MiB cached)"
     ]
    },
    {
     "name": "stdout",
     "output_type": "stream",
     "text": [
      "･ RAM:  △Consumed    △Peaked    Used Total | Exec time 0:00:00.242\n",
      "･ CPU:          0          0      2,182 MB |\n",
      "･ GPU:         40          0      1,824 MB |\n",
      "･ RAM:  △Consumed    △Peaked    Used Total | Exec time 0:00:00.283\n",
      "･ CPU:          0          0      2,182 MB |\n",
      "･ GPU:         40          0      1,824 MB |\n"
     ]
    }
   ],
   "source": [
    "criterion = F.nll_loss\n",
    "optimizer = torch.optim.SGD(m.parameters(), lr=0.01, momentum=0.9)\n",
    "epochs = 10\n",
    "dt = 0.01 \n",
    "ode_steps = 1\n",
    "\n",
    "for e in range(epochs):\n",
    "    dataiter = iter(trainloader)\n",
    "\n",
    "    for i, d in enumerate(dataiter):\n",
    "        x, y = next(dataiter)\n",
    "        x, y = x.cuda(), y.cuda()\n",
    "        for j in range(ode_steps):\n",
    "            loss = criterion(m(x), y)\n",
    "            loss.backward()\n",
    "            with torch.no_grad():\n",
    "                for p in m.parameters():\n",
    "                    n = torch.numel(p)\n",
    "                    p = pySODE.ode_solve(-torch.eye(n).cuda(), p.view(-1), p.grad.view(-1), dt, 1, n, 'Euler')\n",
    "        m.zero_grad()"
   ]
  },
  {
   "cell_type": "code",
   "execution_count": null,
   "metadata": {},
   "outputs": [],
   "source": [
    "del exp2"
   ]
  },
  {
   "cell_type": "markdown",
   "metadata": {},
   "source": [
    "# Boundary plot"
   ]
  },
  {
   "cell_type": "code",
   "execution_count": 36,
   "metadata": {},
   "outputs": [
    {
     "name": "stdout",
     "output_type": "stream",
     "text": [
      "･ RAM:  △Consumed    △Peaked    Used Total | Exec time 0:00:00.007\n",
      "･ CPU:          0          0      2,171 MB |\n",
      "･ GPU:          0          0      1,720 MB |\n"
     ]
    }
   ],
   "source": [
    "def genpoints(xmin,xmax,ymin,ymax,number_points):\n",
    "    xx = torch.linspace(xmin,xmax,number_points)\n",
    "    yy = torch.linspace(ymin,ymax,number_points)\n",
    "    c = 1\n",
    "    P = []\n",
    "    for i in range(number_points):\n",
    "        for j in range(number_points):\n",
    "            P.append([xx[i],yy[j]])\n",
    "    return torch.Tensor(P).cuda()"
   ]
  },
  {
   "cell_type": "code",
   "execution_count": 40,
   "metadata": {},
   "outputs": [
    {
     "name": "stdout",
     "output_type": "stream",
     "text": [
      "･ RAM:  △Consumed    △Peaked    Used Total | Exec time 0:00:00.075\n",
      "･ CPU:          0          2      2,172 MB |\n",
      "･ GPU:          0          0      1,720 MB |\n"
     ]
    }
   ],
   "source": [
    "mp = genpoints(-20,25,-20,25,100)"
   ]
  },
  {
   "cell_type": "code",
   "execution_count": 41,
   "metadata": {},
   "outputs": [
    {
     "data": {
      "text/plain": [
       "torch.Size([10000, 2])"
      ]
     },
     "execution_count": 41,
     "metadata": {},
     "output_type": "execute_result"
    },
    {
     "name": "stdout",
     "output_type": "stream",
     "text": [
      "･ RAM:  △Consumed    △Peaked    Used Total | Exec time 0:00:00.004\n",
      "･ CPU:          0          0      2,172 MB |\n",
      "･ GPU:          0          0      1,720 MB |\n"
     ]
    }
   ],
   "source": [
    "mp.shape"
   ]
  },
  {
   "cell_type": "code",
   "execution_count": 42,
   "metadata": {
    "scrolled": true
   },
   "outputs": [
    {
     "name": "stdout",
     "output_type": "stream",
     "text": [
      "･ RAM:  △Consumed    △Peaked    Used Total | Exec time 0:00:00.007\n",
      "･ CPU:          0          0      2,172 MB |\n",
      "･ GPU:          2          0      1,722 MB |\n"
     ]
    }
   ],
   "source": [
    "y, idx = torch.max(torch.exp(m.forward(mp)), 1)"
   ]
  },
  {
   "cell_type": "code",
   "execution_count": 43,
   "metadata": {},
   "outputs": [
    {
     "data": {
      "text/plain": [
       "<matplotlib.collections.PathCollection at 0x7f6291d0ee10>"
      ]
     },
     "execution_count": 43,
     "metadata": {},
     "output_type": "execute_result"
    },
    {
     "data": {
      "image/png": "[encoded data removed]",
      "text/plain": [
       "<Figure size 324x288 with 1 Axes>"
      ]
     },
     "metadata": {
      "needs_background": "light"
     },
     "output_type": "display_data"
    },
    {
     "name": "stdout",
     "output_type": "stream",
     "text": [
      "･ RAM:  △Consumed    △Peaked    Used Total | Exec time 0:00:00.282\n",
      "･ CPU:          0          0      2,173 MB |\n",
      "･ GPU:          0          0      1,722 MB |\n"
     ]
    }
   ],
   "source": [
    "mp_r = mp[idx==0]\n",
    "mp_b = mp[idx==1]\n",
    "plt.figure(figsize=(4.5,4))\n",
    "plt.scatter(mp_r[:,0].cpu(),mp_r[:,1].cpu(),color='orange')\n",
    "plt.scatter(mp_b[:,0].cpu(),mp_b[:,1].cpu(),color='cyan')\n",
    "plt.scatter(X[yn==1,0],X[yn==1,1],color='blue')\n",
    "plt.scatter(X[yn==0,0],X[yn==0,1],color='red')"
   ]
  }
 ],
 "metadata": {
  "kernelspec": {
   "display_name": "Python 3",
   "language": "python",
   "name": "python3"
  },
  "language_info": {
   "codemirror_mode": {
    "name": "ipython",
    "version": 3
   },
   "file_extension": ".py",
   "mimetype": "text/x-python",
   "name": "python",
   "nbconvert_exporter": "python",
   "pygments_lexer": "ipython3",
   "version": "3.7.3"
  }
 },
 "nbformat": 4,
 "nbformat_minor": 2
}
